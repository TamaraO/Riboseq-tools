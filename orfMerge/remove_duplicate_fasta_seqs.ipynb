{
 "cells": [
  {
   "cell_type": "code",
   "execution_count": 1,
   "metadata": {
    "collapsed": true
   },
   "outputs": [],
   "source": [
    "from Bio import SeqIO\n",
    "from Bio.SeqRecord import SeqRecord\n",
    "from Bio.Seq import Seq"
   ]
  },
  {
   "cell_type": "code",
   "execution_count": 2,
   "metadata": {
    "collapsed": true
   },
   "outputs": [],
   "source": [
    "def sequence_cleaner(fasta_in, fasta_out):\n",
    "    sequences={}\n",
    "    for seq_record in SeqIO.parse(fasta_in, \"fasta\"):\n",
    "        sequence = str(seq_record.seq)\n",
    "        if sequence not in sequences:\n",
    "            sequences[sequence] = seq_record.id\n",
    "        else:\n",
    "            pass\n",
    "    with open(fasta_out, \"w\") as output:\n",
    "        for sequence in sequences:\n",
    "            record = SeqRecord(seq = Seq(sequence), \\\n",
    "                                id = sequences[sequence], description = '')\n",
    "            SeqIO.write(record, output, \"fasta\")"
   ]
  },
  {
   "cell_type": "code",
   "execution_count": 3,
   "metadata": {
    "collapsed": true
   },
   "outputs": [],
   "source": [
    "sequence_cleaner('/ahg/regevdata/projects/Ribo-seq/MHC-I/ref/orfeome/B721.RibORF.Price/B721.RibORF.Price.canonical.prot.fasta','/ahg/regevdata/projects/Ribo-seq/MHC-I/ref/orfeome/B721.RibORF.Price/B721.RibORF.Price.canonical.dedup.fasta')"
   ]
  },
  {
   "cell_type": "code",
   "execution_count": null,
   "metadata": {
    "collapsed": true
   },
   "outputs": [],
   "source": []
  },
  {
   "cell_type": "code",
   "execution_count": null,
   "metadata": {
    "collapsed": true
   },
   "outputs": [],
   "source": []
  }
 ],
 "metadata": {
  "kernelspec": {
   "display_name": "Python 3",
   "language": "python",
   "name": "python3"
  },
  "language_info": {
   "codemirror_mode": {
    "name": "ipython",
    "version": 3
   },
   "file_extension": ".py",
   "mimetype": "text/x-python",
   "name": "python",
   "nbconvert_exporter": "python",
   "pygments_lexer": "ipython3",
   "version": "3.6.1"
  }
 },
 "nbformat": 4,
 "nbformat_minor": 2
}

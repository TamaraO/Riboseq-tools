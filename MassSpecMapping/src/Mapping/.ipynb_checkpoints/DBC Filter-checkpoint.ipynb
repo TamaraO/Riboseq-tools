{
 "cells": [
  {
   "cell_type": "code",
   "execution_count": 1,
   "metadata": {},
   "outputs": [],
   "source": [
    "import pandas\n",
    "from tqdm import tqdm"
   ]
  },
  {
   "cell_type": "code",
   "execution_count": 2,
   "metadata": {},
   "outputs": [],
   "source": [
    "def getSpectralRecall(row):\n",
    "    return(min(\n",
    "        (\n",
    "            100.0 * (\n",
    "                row.loc['backbone_cleavage_score'] /\n",
    "                (len(row.loc['sequence']) - 1))\n",
    "        ),\n",
    "        100.0\n",
    "    ))\n",
    "def getFDR(row):\n",
    "    if row.loc['deltaForwardReverseScore'] < 0:\n",
    "        return(0)\n",
    "    return(1)\n",
    "def getCond(row):\n",
    "    if row.loc['category'] != 'nuORF':\n",
    "        return('Canonical')\n",
    "    if 'canonical' in row.loc['header']:\n",
    "        return('Canonical')\n",
    "    return('nuORF')"
   ]
  },
  {
   "cell_type": "code",
   "execution_count": 3,
   "metadata": {},
   "outputs": [],
   "source": [
    "THRESHOLDS = {\n",
    "    'DBC.NULL': [0, 0, 0, 0],\n",
    "    'DBC.B721': [9, 29, 4, 44],\n",
    "    'DBC.PS': [8, 29, 5, 44],\n",
    "    'DBC.RPF': [6, 40, 5, 44],\n",
    "    'DBC.RNA': [3, 29, 5, 44]\n",
    "}\n",
    "def fdrFilter(row, name):\n",
    "    threshold = THRESHOLDS[name]\n",
    "    if row.loc['condType'] == 'Canonical':\n",
    "        return(True)\n",
    "    if not row.loc['score'] > threshold[0]:\n",
    "        return(False)\n",
    "    if not row.loc['percent_scored_peak_intensity'] > threshold[1]:\n",
    "        return(False)\n",
    "    if not row.loc['backbone_cleavage_score'] > threshold[2]:\n",
    "        return(False)\n",
    "    if not row.loc['SpectralRecall'] > threshold[3]:\n",
    "        return(False)\n",
    "    return(True)"
   ]
  },
  {
   "cell_type": "code",
   "execution_count": 4,
   "metadata": {},
   "outputs": [],
   "source": [
    "def updateTypes(pep, out, name):\n",
    "    df = pandas.read_csv(\n",
    "        pep,\n",
    "        sep='\\t',\n",
    "        header=0,\n",
    "        index_col=['Peptide:UID']\n",
    "    )\n",
    "    df['SpectralRecall'] = df.apply(getSpectralRecall, axis=1)\n",
    "    df['condType'] = df.apply(getCond, axis=1)\n",
    "    df['fdr'] = df.apply(getFDR, axis=1)\n",
    "    df['fdrFilter'] = df.apply(fdrFilter, axis=1, args=(name, ))\n",
    "    df.to_csv(\n",
    "        out,\n",
    "        sep='\\t',\n",
    "        header=True,\n",
    "        index=True\n",
    "    )"
   ]
  },
  {
   "cell_type": "code",
   "execution_count": 5,
   "metadata": {
    "scrolled": false
   },
   "outputs": [
    {
     "name": "stderr",
     "output_type": "stream",
     "text": [
      "100%|██████████| 5/5 [00:29<00:00,  5.93s/it]\n"
     ]
    }
   ],
   "source": [
    "conditions = [\n",
    "    'DBC.RNA',\n",
    "    'DBC.RPF',\n",
    "    'DBC.B721',\n",
    "    'DBC.PS',\n",
    "    'DBC.NULL'\n",
    "]\n",
    "for cond in tqdm(conditions):\n",
    "    pep = '../../data/pep/' + cond + '.pep'\n",
    "    out = '../../data/final/' + cond + '.pep'\n",
    "    updateTypes(pep, out, cond)"
   ]
  }
 ],
 "metadata": {
  "kernelspec": {
   "display_name": "Python 3",
   "language": "python",
   "name": "python3"
  },
  "language_info": {
   "codemirror_mode": {
    "name": "ipython",
    "version": 3
   },
   "file_extension": ".py",
   "mimetype": "text/x-python",
   "name": "python",
   "nbconvert_exporter": "python",
   "pygments_lexer": "ipython3",
   "version": "3.7.0"
  }
 },
 "nbformat": 4,
 "nbformat_minor": 2
}

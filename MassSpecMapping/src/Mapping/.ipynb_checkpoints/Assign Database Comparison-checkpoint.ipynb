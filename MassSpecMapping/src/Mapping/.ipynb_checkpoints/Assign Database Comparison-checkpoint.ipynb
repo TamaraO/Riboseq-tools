{
 "cells": [
  {
   "cell_type": "code",
   "execution_count": 1,
   "metadata": {},
   "outputs": [],
   "source": [
    "import pandas\n",
    "from tqdm import tqdm"
   ]
  },
  {
   "cell_type": "code",
   "execution_count": 2,
   "metadata": {},
   "outputs": [],
   "source": [
    "def assignPeptides(merge, out):\n",
    "    df = pandas.read_csv(merge, sep='\\t', header=0, index_col=False)\n",
    "    df = df[df['category'] != 'smORF'].copy()\n",
    "    peptides = set(df['Peptide:UID'])\n",
    "    matches = []\n",
    "    for peptide in tqdm(peptides, desc=merge):\n",
    "        matches.append(refineMatches(\n",
    "            df[df['Peptide:UID'] == peptide]\n",
    "        ))\n",
    "    df = pandas.concat(matches)\n",
    "    df = df[df['category'] != 'Contaminant']\n",
    "    df.to_csv(out, sep='\\t', header=True, index=False)"
   ]
  },
  {
   "cell_type": "code",
   "execution_count": 3,
   "metadata": {},
   "outputs": [],
   "source": [
    "def refineMatches(df):\n",
    "    categories = set(df['category'])\n",
    "    if 'Contaminant' in categories:\n",
    "        return(df[df['category'] == 'Contaminant'])\n",
    "    if 'UCSC' in categories:\n",
    "        df = df[df['category'] == 'UCSC']\n",
    "        return(df.iloc[[0]])\n",
    "    return(df.iloc[[0]])"
   ]
  },
  {
   "cell_type": "code",
   "execution_count": 4,
   "metadata": {},
   "outputs": [
    {
     "name": "stderr",
     "output_type": "stream",
     "text": [
      "../../data/merge/DBC.RNA.merge: 100%|██████████| 26759/26759 [15:17<00:00, 29.39it/s]\n",
      "../../data/merge/DBC.RPF.merge: 100%|██████████| 27386/27386 [16:07<00:00, 28.30it/s]\n",
      "../../data/merge/DBC.B721.merge: 100%|██████████| 28749/28749 [14:32<00:00, 34.31it/s]\n",
      "../../data/merge/DBC.PS.merge: 100%|██████████| 28789/28789 [17:49<00:00, 27.86it/s]\n",
      "../../data/merge/DBC.NULL.merge: 100%|██████████| 28455/28455 [06:48<00:00, 69.62it/s]\n"
     ]
    }
   ],
   "source": [
    "conditions = [\n",
    "    'DBC.RNA',\n",
    "    'DBC.RPF',\n",
    "    'DBC.B721',\n",
    "    'DBC.PS',\n",
    "    'DBC.NULL'\n",
    "]\n",
    "for cond in conditions:\n",
    "    merge = '../../data/merge/' + cond + '.merge'\n",
    "    out = '../../data/final/' + cond + '.pep'\n",
    "    assignPeptides(merge, out)"
   ]
  }
 ],
 "metadata": {
  "kernelspec": {
   "display_name": "Python 3",
   "language": "python",
   "name": "python3"
  },
  "language_info": {
   "codemirror_mode": {
    "name": "ipython",
    "version": 3
   },
   "file_extension": ".py",
   "mimetype": "text/x-python",
   "name": "python",
   "nbconvert_exporter": "python",
   "pygments_lexer": "ipython3",
   "version": "3.7.0"
  }
 },
 "nbformat": 4,
 "nbformat_minor": 2
}

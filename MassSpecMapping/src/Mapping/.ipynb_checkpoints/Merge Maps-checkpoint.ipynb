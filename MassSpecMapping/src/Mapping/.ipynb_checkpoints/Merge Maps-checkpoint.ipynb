{
 "cells": [
  {
   "cell_type": "markdown",
   "metadata": {},
   "source": [
    "# Merge Map files with Reference and MS Search tables"
   ]
  },
  {
   "cell_type": "markdown",
   "metadata": {},
   "source": [
    "#### Import Libraries & Setup Environment"
   ]
  },
  {
   "cell_type": "code",
   "execution_count": 1,
   "metadata": {},
   "outputs": [],
   "source": [
    "import pandas\n",
    "import numpy\n",
    "ucsc = '../../data/map/ucsc.map'\n",
    "pepMapBase = '../../data/map/'\n",
    "tsvBase = '../../data/tsv/'\n",
    "refBase = '../../data/ref/'\n",
    "tpmBase = '../../data/tpm/'\n",
    "outBase = '../../data/merge/'"
   ]
  },
  {
   "cell_type": "markdown",
   "metadata": {},
   "source": [
    "### Functions to generate ORF_ID\n",
    "This depends on premade maps for the UCSC references, but generates a column to merge the Reference and TPM tables. The Contaminants and smORF proteins are discarded from future analysis."
   ]
  },
  {
   "cell_type": "code",
   "execution_count": 2,
   "metadata": {},
   "outputs": [],
   "source": [
    "def ucsdORFID(header, ucscMap):\n",
    "    if header in ucscMap:\n",
    "        return(ucscMap[header])\n",
    "    return(numpy.nan)"
   ]
  },
  {
   "cell_type": "code",
   "execution_count": 3,
   "metadata": {},
   "outputs": [],
   "source": [
    "def contamORFID(header):\n",
    "    return(numpy.nan)"
   ]
  },
  {
   "cell_type": "code",
   "execution_count": 4,
   "metadata": {},
   "outputs": [],
   "source": [
    "def nuORFID(header):\n",
    "    header = header.split(' | ')[1]\n",
    "    header = header.replace('~', '|')\n",
    "    return(header)"
   ]
  },
  {
   "cell_type": "code",
   "execution_count": 5,
   "metadata": {},
   "outputs": [],
   "source": [
    "def smORFID(header):\n",
    "    return(numpy.nan)"
   ]
  },
  {
   "cell_type": "code",
   "execution_count": 6,
   "metadata": {},
   "outputs": [],
   "source": [
    "def variantORFID(header):\n",
    "    header = header.split('|')\n",
    "    header = header[:3]\n",
    "    header = '|'.join(header)\n",
    "    return(header)"
   ]
  },
  {
   "cell_type": "code",
   "execution_count": 7,
   "metadata": {},
   "outputs": [],
   "source": [
    "def getORFID(row, ucscMap):\n",
    "    orfType = row.loc['category']\n",
    "    header = row.loc['header']\n",
    "    if orfType == 'UCSC':\n",
    "        return(ucsdORFID(header, ucscMap))\n",
    "    if orfType == 'Contaminant':\n",
    "        return(contamORFID(header))\n",
    "    if orfType == 'nuORF':\n",
    "        return(nuORFID(header))\n",
    "    if orfType == 'smORF':\n",
    "        return(smORFID(header))\n",
    "    if orfType == 'Variant':\n",
    "        return(variantORFID(header))\n",
    "    return('[ERROR]')"
   ]
  },
  {
   "cell_type": "markdown",
   "metadata": {},
   "source": [
    "### Parse & Merge Tables"
   ]
  },
  {
   "cell_type": "code",
   "execution_count": 8,
   "metadata": {},
   "outputs": [],
   "source": [
    "def parseUcscMap(path):\n",
    "    ucscMap = dict()\n",
    "    path = open(path, 'r')\n",
    "    for line in path:\n",
    "        line = line[:-1]\n",
    "        line = line.split('\\t')\n",
    "        ucscMap[line[0]] = line[1]\n",
    "    path.close()\n",
    "    return(ucscMap)"
   ]
  },
  {
   "cell_type": "code",
   "execution_count": 9,
   "metadata": {},
   "outputs": [],
   "source": [
    "def parseTPM(path):\n",
    "    tpm = pandas.read_csv(\n",
    "        path,\n",
    "        sep='\\t',\n",
    "        header=0,\n",
    "        index_col=False,\n",
    "        usecols=['ORF_ID', 'mean.purity', 'mean.tpm', 'std.purity', 'std.tpm'])\n",
    "    return(tpm)"
   ]
  },
  {
   "cell_type": "code",
   "execution_count": 10,
   "metadata": {},
   "outputs": [],
   "source": [
    "def multipleMaps(ORF_ID):\n",
    "    if ',' in str(ORF_ID):\n",
    "        return(True)\n",
    "    return(False)"
   ]
  },
  {
   "cell_type": "code",
   "execution_count": 11,
   "metadata": {},
   "outputs": [],
   "source": [
    "def parseRefTPM(reference, ucscMap):\n",
    "    ref = pandas.read_csv(\n",
    "        reference,\n",
    "        sep='\\t',\n",
    "        header=0,\n",
    "        index_col=False)\n",
    "    ref.drop(\n",
    "        ['sequence'],\n",
    "        axis=1,\n",
    "        inplace=True)\n",
    "    ucsc = parseUcscMap(ucscMap)\n",
    "    ref['ORF_ID'] = ref.apply(\n",
    "        getORFID,\n",
    "        axis=1,\n",
    "        args=(ucsc,))\n",
    "    multi = ref[ref['ORF_ID'].apply(multipleMaps) == True].copy()\n",
    "    if multi.shape[0] > 0:\n",
    "        multiRows = dict()\n",
    "        i = 0\n",
    "        for row in multi.itertuples():\n",
    "            IDs = str(row[-1]).split(',')\n",
    "            for ids in IDs:\n",
    "                core = list(row[1:-1])\n",
    "                core.append(ids)\n",
    "                multiRows[i] = tuple(core)\n",
    "                i += 1\n",
    "        multi = pandas.DataFrame.from_dict(\n",
    "            multiRows,\n",
    "            orient='index'\n",
    "        )\n",
    "        multi.columns = ref.columns\n",
    "        ref = pandas.concat(\n",
    "            [\n",
    "                ref[ref['ORF_ID'].apply(multipleMaps) == False].copy(),\n",
    "                multi\n",
    "            ],\n",
    "            axis=0,\n",
    "            ignore_index=True\n",
    "        )\n",
    "    return(ref)"
   ]
  },
  {
   "cell_type": "code",
   "execution_count": 12,
   "metadata": {},
   "outputs": [],
   "source": [
    "def parseRefNoTPM(reference):\n",
    "    ref = pandas.read_csv(\n",
    "        reference,\n",
    "        sep='\\t',\n",
    "        header=0,\n",
    "        index_col=False)\n",
    "    ref.drop(\n",
    "        ['sequence'],\n",
    "        axis=1,\n",
    "        inplace=True)\n",
    "    return(ref)"
   ]
  },
  {
   "cell_type": "code",
   "execution_count": 13,
   "metadata": {},
   "outputs": [],
   "source": [
    "def parseTSV(path):\n",
    "    tsv = pandas.read_csv(\n",
    "        path,\n",
    "        sep='\\t',\n",
    "        header=0,\n",
    "        index_col=False)\n",
    "    tsv.drop(\n",
    "        ['sequence', 'sequenceMulti', 'sequenceList'],\n",
    "        axis=1,\n",
    "        inplace=True)\n",
    "    return(tsv)"
   ]
  },
  {
   "cell_type": "code",
   "execution_count": 14,
   "metadata": {},
   "outputs": [],
   "source": [
    "def parseMap(path):\n",
    "    peptideMap = pandas.read_csv(\n",
    "        path,\n",
    "        sep='\\t',\n",
    "        header=0,\n",
    "        index_col=False)\n",
    "    return(peptideMap)"
   ]
  },
  {
   "cell_type": "code",
   "execution_count": 15,
   "metadata": {},
   "outputs": [],
   "source": [
    "def mergeTables(peptideMap, tsv, ref, tpm, ucscMap, out):\n",
    "    peptideMap = parseMap(peptideMap)\n",
    "    tsv = parseTSV(tsv)\n",
    "    ref = parseRefTPM(ref, ucscMap)\n",
    "    tpm = parseTPM(tpm)\n",
    "    merge = peptideMap.merge(\n",
    "        tsv,\n",
    "        how='left',\n",
    "        on='Peptide:UID')\n",
    "    merge = merge.merge(\n",
    "        ref,\n",
    "        how='left',\n",
    "        on='Protein:UID')\n",
    "    merge = merge.merge(\n",
    "        tpm,\n",
    "        how='left',\n",
    "        on='ORF_ID')\n",
    "    merge.to_csv(\n",
    "        out,\n",
    "        sep='\\t',\n",
    "        header=True,\n",
    "        index=False)"
   ]
  },
  {
   "cell_type": "code",
   "execution_count": 16,
   "metadata": {},
   "outputs": [],
   "source": [
    "def mergeTablesNoTPM(peptideMap, tsv, ref, out, ucscMap=False):\n",
    "    peptideMap = parseMap(peptideMap)\n",
    "    tsv = parseTSV(tsv)\n",
    "    if not ucscMap:\n",
    "        ref = parseRefNoTPM(ref)\n",
    "    else:\n",
    "        ref = parseRefTPM(ref, ucscMap)\n",
    "    merge = peptideMap.merge(\n",
    "        tsv,\n",
    "        how='left',\n",
    "        on='Peptide:UID')\n",
    "    merge = merge.merge(\n",
    "        ref,\n",
    "        how='left',\n",
    "        on='Protein:UID')\n",
    "    merge.to_csv(\n",
    "        out,\n",
    "        sep='\\t',\n",
    "        header=True,\n",
    "        index=False)"
   ]
  },
  {
   "cell_type": "markdown",
   "metadata": {},
   "source": [
    "## B721.221"
   ]
  },
  {
   "cell_type": "markdown",
   "metadata": {},
   "source": [
    "#### Merge B721 MHC-I"
   ]
  },
  {
   "cell_type": "code",
   "execution_count": 17,
   "metadata": {},
   "outputs": [],
   "source": [
    "pepMap = pepMapBase + 'B721.MHCI.map'\n",
    "tsv = tsvBase + 'B721.MHCI.tsv'\n",
    "ref = refBase + 'PanSample.ref'\n",
    "tpm = tpmBase + 'B721.tpm'\n",
    "out = outBase + 'B721.MHCI.merge'\n",
    "mergeTables(pepMap, tsv, ref, tpm, ucsc, out)"
   ]
  },
  {
   "cell_type": "markdown",
   "metadata": {},
   "source": [
    "#### Merge B721 Whole Peptidome"
   ]
  },
  {
   "cell_type": "code",
   "execution_count": 18,
   "metadata": {},
   "outputs": [],
   "source": [
    "pepMap = pepMapBase + 'B721.Whole.map'\n",
    "tsv = tsvBase + 'B721.Whole.tsv'\n",
    "ref = refBase + 'PanSample.ref'\n",
    "tpm = tpmBase + 'B721.tpm'\n",
    "out = outBase + 'B721.Whole.merge'\n",
    "mergeTables(pepMap, tsv, ref, tpm, ucsc, out)"
   ]
  },
  {
   "cell_type": "markdown",
   "metadata": {},
   "source": [
    "## CLL"
   ]
  },
  {
   "cell_type": "markdown",
   "metadata": {},
   "source": [
    "#### Merge CLL 5283 MHC-I"
   ]
  },
  {
   "cell_type": "code",
   "execution_count": 19,
   "metadata": {},
   "outputs": [],
   "source": [
    "pepMap = pepMapBase + 'CLL.5283.MHCI.map'\n",
    "tsv = tsvBase + 'CLL.5283.MHCI.tsv'\n",
    "ref = refBase + 'CLL.5283.ref'\n",
    "tpm = tpmBase + 'CLL.5283.tpm'\n",
    "out = outBase + 'CLL.5283.MHCI.merge'\n",
    "mergeTables(pepMap, tsv, ref, tpm, ucsc, out)"
   ]
  },
  {
   "cell_type": "markdown",
   "metadata": {},
   "source": [
    "#### Merge CLL 5328 MHC-I"
   ]
  },
  {
   "cell_type": "code",
   "execution_count": 20,
   "metadata": {},
   "outputs": [],
   "source": [
    "pepMap = pepMapBase + 'CLL.5328.MHCI.map'\n",
    "tsv = tsvBase + 'CLL.5328.MHCI.tsv'\n",
    "ref = refBase + 'PanSample.ref'\n",
    "out = outBase + 'CLL.5328.MHCI.merge'\n",
    "mergeTablesNoTPM(pepMap, tsv, ref, out, ucscMap=ucsc)"
   ]
  },
  {
   "cell_type": "markdown",
   "metadata": {},
   "source": [
    "#### Merge CLL 5341 MHC-I"
   ]
  },
  {
   "cell_type": "code",
   "execution_count": 21,
   "metadata": {},
   "outputs": [],
   "source": [
    "pepMap = pepMapBase + 'CLL.5341.MHCI.map'\n",
    "tsv = tsvBase + 'CLL.5341.MHCI.tsv'\n",
    "ref = refBase + 'PanSample.ref'\n",
    "out = outBase + 'CLL.5341.MHCI.merge'\n",
    "mergeTablesNoTPM(pepMap, tsv, ref, out, ucscMap=ucsc)"
   ]
  },
  {
   "cell_type": "markdown",
   "metadata": {},
   "source": [
    "## MEL"
   ]
  },
  {
   "cell_type": "markdown",
   "metadata": {},
   "source": [
    "#### Merge MEL 2 MHC-I"
   ]
  },
  {
   "cell_type": "code",
   "execution_count": 22,
   "metadata": {},
   "outputs": [],
   "source": [
    "pepMap = pepMapBase + 'MEL.2.MHCI.map'\n",
    "tsv = tsvBase + 'MEL.2.MHCI.tsv'\n",
    "ref = refBase + 'MEL.2.ref'\n",
    "tpm = tpmBase + 'MEL.2.tpm'\n",
    "out = outBase + 'MEL.2.MHCI.merge'\n",
    "mergeTables(pepMap, tsv, ref, tpm, ucsc, out)"
   ]
  },
  {
   "cell_type": "markdown",
   "metadata": {},
   "source": [
    "#### Merge MEL 2 10IP MHC-I"
   ]
  },
  {
   "cell_type": "code",
   "execution_count": 23,
   "metadata": {},
   "outputs": [],
   "source": [
    "pepMap = pepMapBase + 'MEL.2.10IP.MHCI.map'\n",
    "tsv = tsvBase + 'MEL.2.10IP.MHCI.tsv'\n",
    "ref = refBase + 'MEL.2.ref'\n",
    "tpm = tpmBase + 'MEL.2.tpm'\n",
    "out = outBase + 'MEL.2.10IP.MHCI.merge'\n",
    "mergeTables(pepMap, tsv, ref, tpm, ucsc, out)"
   ]
  },
  {
   "cell_type": "markdown",
   "metadata": {},
   "source": [
    "#### Merge MEL 2 SEL MHC-I"
   ]
  },
  {
   "cell_type": "code",
   "execution_count": 24,
   "metadata": {},
   "outputs": [],
   "source": [
    "pepMap = pepMapBase + 'MEL.2s.MHCI.map'\n",
    "tsv = tsvBase + 'MEL.2s.MHCI.tsv'\n",
    "ref = refBase + 'MEL.2.ref'\n",
    "tpm = tpmBase + 'MEL.2.tpm'\n",
    "out = outBase + 'MEL.2s.MHCI.merge'\n",
    "mergeTables(pepMap, tsv, ref, tpm, ucsc, out)"
   ]
  },
  {
   "cell_type": "markdown",
   "metadata": {},
   "source": [
    "#### Merge MEL 2 SEL IFN MHC-I"
   ]
  },
  {
   "cell_type": "code",
   "execution_count": 25,
   "metadata": {},
   "outputs": [],
   "source": [
    "pepMap = pepMapBase + 'MEL.2s.IFN.MHCI.map'\n",
    "tsv = tsvBase + 'MEL.2s.IFN.MHCI.tsv'\n",
    "ref = refBase + 'MEL.2.ref'\n",
    "tpm = tpmBase + 'MEL.2.tpm'\n",
    "out = outBase + 'MEL.2s.IFN.MHCI.merge'\n",
    "mergeTables(pepMap, tsv, ref, tpm, ucsc, out)"
   ]
  },
  {
   "cell_type": "markdown",
   "metadata": {},
   "source": [
    "#### Merge MEL 6 MHC-I"
   ]
  },
  {
   "cell_type": "code",
   "execution_count": 26,
   "metadata": {},
   "outputs": [],
   "source": [
    "pepMap = pepMapBase + 'MEL.6.MHCI.map'\n",
    "tsv = tsvBase + 'MEL.6.MHCI.tsv'\n",
    "ref = refBase + 'PanSample.ref'\n",
    "out = outBase + 'MEL.6.MHCI.merge'\n",
    "mergeTablesNoTPM(pepMap, tsv, ref, out, ucscMap=ucsc)"
   ]
  },
  {
   "cell_type": "markdown",
   "metadata": {},
   "source": [
    "#### Merge MEL 6 IFN MHC-I"
   ]
  },
  {
   "cell_type": "code",
   "execution_count": 27,
   "metadata": {},
   "outputs": [],
   "source": [
    "pepMap = pepMapBase + 'MEL.6.IFN.MHCI.map'\n",
    "tsv = tsvBase + 'MEL.6.IFN.MHCI.tsv'\n",
    "ref = refBase + 'PanSample.ref'\n",
    "out = outBase + 'MEL.6.IFN.MHCI.merge'\n",
    "mergeTablesNoTPM(pepMap, tsv, ref, out, ucscMap=ucsc)"
   ]
  },
  {
   "cell_type": "markdown",
   "metadata": {},
   "source": [
    "#### Merge MEL 11 MHC-I"
   ]
  },
  {
   "cell_type": "code",
   "execution_count": 28,
   "metadata": {},
   "outputs": [],
   "source": [
    "pepMap = pepMapBase + 'MEL.11.MHCI.map'\n",
    "tsv = tsvBase + 'MEL.11.MHCI.tsv'\n",
    "ref = refBase + 'MEL.11.ref'\n",
    "tpm = tpmBase + 'MEL.11.tpm'\n",
    "out = outBase + 'MEL.11.MHCI.merge'\n",
    "mergeTables(pepMap, tsv, ref, tpm, ucsc, out)"
   ]
  },
  {
   "cell_type": "markdown",
   "metadata": {},
   "source": [
    "#### Merge MEL 11 IFN MHC-I"
   ]
  },
  {
   "cell_type": "code",
   "execution_count": 29,
   "metadata": {},
   "outputs": [],
   "source": [
    "pepMap = pepMapBase + 'MEL.11.IFN.MHCI.map'\n",
    "tsv = tsvBase + 'MEL.11.IFN.MHCI.tsv'\n",
    "ref = refBase + 'MEL.11.ref'\n",
    "tpm = tpmBase + 'MEL.11.tpm'\n",
    "out = outBase + 'MEL.11.IFN.MHCI.merge'\n",
    "mergeTables(pepMap, tsv, ref, tpm, ucsc, out)"
   ]
  },
  {
   "cell_type": "markdown",
   "metadata": {},
   "source": [
    "#### Merge MEL 15 MHC-I"
   ]
  },
  {
   "cell_type": "code",
   "execution_count": 30,
   "metadata": {},
   "outputs": [],
   "source": [
    "pepMap = pepMapBase + 'MEL.15.MHCI.map'\n",
    "tsv = tsvBase + 'MEL.15.MHCI.tsv'\n",
    "ref = refBase + 'PanSample.ref'\n",
    "out = outBase + 'MEL.15.MHCI.merge'\n",
    "mergeTablesNoTPM(pepMap, tsv, ref, out, ucscMap=ucsc)"
   ]
  },
  {
   "cell_type": "markdown",
   "metadata": {},
   "source": [
    "#### Merge MEL 15 IFN MHC-I"
   ]
  },
  {
   "cell_type": "code",
   "execution_count": 31,
   "metadata": {},
   "outputs": [],
   "source": [
    "pepMap = pepMapBase + 'MEL.15.IFN.MHCI.map'\n",
    "tsv = tsvBase + 'MEL.15.IFN.MHCI.tsv'\n",
    "ref = refBase + 'PanSample.ref'\n",
    "out = outBase + 'MEL.15.IFN.MHCI.merge'\n",
    "mergeTablesNoTPM(pepMap, tsv, ref, out, ucscMap=ucsc)"
   ]
  },
  {
   "cell_type": "markdown",
   "metadata": {},
   "source": [
    "## GBM"
   ]
  },
  {
   "cell_type": "markdown",
   "metadata": {},
   "source": [
    "#### Merge GBM H4512 MHC-I"
   ]
  },
  {
   "cell_type": "code",
   "execution_count": 32,
   "metadata": {},
   "outputs": [],
   "source": [
    "pepMap = pepMapBase + 'GBM.H4512.MHCI.map'\n",
    "tsv = tsvBase + 'GBM.H4512.MHCI.tsv'\n",
    "ref = refBase + 'PanSample.ref'\n",
    "tpm = tpmBase + 'GBM.H4512.tpm'\n",
    "out = outBase + 'GBM.H4512.MHCI.merge'\n",
    "mergeTables(pepMap, tsv, ref, tpm, ucsc, out)"
   ]
  },
  {
   "cell_type": "markdown",
   "metadata": {},
   "source": [
    "#### Merge GBM H4512 IFN MHC-I"
   ]
  },
  {
   "cell_type": "code",
   "execution_count": 33,
   "metadata": {},
   "outputs": [],
   "source": [
    "pepMap = pepMapBase + 'GBM.H4512.IFN.MHCI.map'\n",
    "tsv = tsvBase + 'GBM.H4512.IFN.MHCI.tsv'\n",
    "ref = refBase + 'PanSample.ref'\n",
    "tpm = tpmBase + 'GBM.H4512.tpm'\n",
    "out = outBase + 'GBM.H4512.IFN.MHCI.merge'\n",
    "mergeTables(pepMap, tsv, ref, tpm, ucsc, out)"
   ]
  },
  {
   "cell_type": "markdown",
   "metadata": {},
   "source": [
    "#### Merge GBM H4512 Whole Proteome"
   ]
  },
  {
   "cell_type": "code",
   "execution_count": 34,
   "metadata": {},
   "outputs": [],
   "source": [
    "pepMap = pepMapBase + 'GBM.H4512.Whole.map'\n",
    "tsv = tsvBase + 'GBM.H4512.Whole.tsv'\n",
    "ref = refBase + 'PanSample.ref'\n",
    "tpm = tpmBase + 'GBM.H4512.tpm'\n",
    "out = outBase + 'GBM.H4512.Whole.merge'\n",
    "mergeTables(pepMap, tsv, ref, tpm, ucsc, out)"
   ]
  },
  {
   "cell_type": "markdown",
   "metadata": {},
   "source": [
    "#### Merge GBM H4198 MHC-I"
   ]
  },
  {
   "cell_type": "code",
   "execution_count": 35,
   "metadata": {},
   "outputs": [],
   "source": [
    "pepMap = pepMapBase + 'GBM.H4198.MHCI.map'\n",
    "tsv = tsvBase + 'GBM.H4198.MHCI.tsv'\n",
    "ref = refBase + 'PanSample.ref'\n",
    "out = outBase + 'GBM.H4198.MHCI.merge'\n",
    "mergeTablesNoTPM(pepMap, tsv, ref, out, ucscMap=ucsc)"
   ]
  },
  {
   "cell_type": "markdown",
   "metadata": {},
   "source": [
    "#### Merge GBM H4198 IFN MHC-I"
   ]
  },
  {
   "cell_type": "code",
   "execution_count": 36,
   "metadata": {},
   "outputs": [],
   "source": [
    "pepMap = pepMapBase + 'GBM.H4198.IFN.MHCI.map'\n",
    "tsv = tsvBase + 'GBM.H4198.IFN.MHCI.tsv'\n",
    "ref = refBase + 'PanSample.ref'\n",
    "out = outBase + 'GBM.H4198.IFN.MHCI.merge'\n",
    "mergeTablesNoTPM(pepMap, tsv, ref, out, ucscMap=ucsc)"
   ]
  },
  {
   "cell_type": "markdown",
   "metadata": {},
   "source": [
    "#### Merge GBM 7 MHC-I"
   ]
  },
  {
   "cell_type": "code",
   "execution_count": 37,
   "metadata": {},
   "outputs": [],
   "source": [
    "pepMap = pepMapBase + 'GBM.7.MHCI.map'\n",
    "tsv = tsvBase + 'GBM.7.MHCI.tsv'\n",
    "ref = refBase + 'GBM.7.ref'\n",
    "tpm = tpmBase + 'GBM.7.tpm'\n",
    "out = outBase + 'GBM.7.MHCI.merge'\n",
    "mergeTables(pepMap, tsv, ref, tpm, ucsc, out)"
   ]
  },
  {
   "cell_type": "markdown",
   "metadata": {},
   "source": [
    "#### Merge GBM 7 IFN MHC-I"
   ]
  },
  {
   "cell_type": "code",
   "execution_count": 38,
   "metadata": {},
   "outputs": [],
   "source": [
    "pepMap = pepMapBase + 'GBM.7.IFN.MHCI.map'\n",
    "tsv = tsvBase + 'GBM.7.IFN.MHCI.tsv'\n",
    "ref = refBase + 'GBM.7.ref'\n",
    "tpm = tpmBase + 'GBM.7.tpm'\n",
    "out = outBase + 'GBM.7.IFN.MHCI.merge'\n",
    "mergeTables(pepMap, tsv, ref, tpm, ucsc, out)"
   ]
  },
  {
   "cell_type": "markdown",
   "metadata": {},
   "source": [
    "## Ovarian Cancer"
   ]
  },
  {
   "cell_type": "markdown",
   "metadata": {},
   "source": [
    "#### OV CP-594"
   ]
  },
  {
   "cell_type": "code",
   "execution_count": 39,
   "metadata": {},
   "outputs": [],
   "source": [
    "pepMap = pepMapBase + 'OV.CP-594.MHCI.map'\n",
    "tsv = tsvBase + 'OV.CP-594.MHCI.tsv'\n",
    "ref = refBase + 'PanSample.ref'\n",
    "out = outBase + 'OV.CP-594.MHCI.merge'\n",
    "mergeTablesNoTPM(pepMap, tsv, ref, out, ucscMap=ucsc)"
   ]
  },
  {
   "cell_type": "markdown",
   "metadata": {},
   "source": [
    "#### OV SLS3-M1"
   ]
  },
  {
   "cell_type": "code",
   "execution_count": 40,
   "metadata": {},
   "outputs": [],
   "source": [
    "pepMap = pepMapBase + 'OV.SLS3-M1.MHCI.map'\n",
    "tsv = tsvBase + 'OV.SLS3-M1.MHCI.tsv'\n",
    "ref = refBase + 'PanSample.ref'\n",
    "out = outBase + 'OV.SLS3-M1.MHCI.merge'\n",
    "mergeTablesNoTPM(pepMap, tsv, ref, out, ucscMap=ucsc)"
   ]
  },
  {
   "cell_type": "markdown",
   "metadata": {},
   "source": [
    "## Renal Cell Carcinoma"
   ]
  },
  {
   "cell_type": "markdown",
   "metadata": {},
   "source": [
    "#### RCC 9"
   ]
  },
  {
   "cell_type": "code",
   "execution_count": 41,
   "metadata": {},
   "outputs": [],
   "source": [
    "pepMap = pepMapBase + 'RCC.9.MHCI.map'\n",
    "tsv = tsvBase + 'RCC.9.MHCI.tsv'\n",
    "ref = refBase + 'PanSample.ref'\n",
    "out = outBase + 'RCC.9.MHCI.merge'\n",
    "mergeTablesNoTPM(pepMap, tsv, ref, out, ucscMap=ucsc)"
   ]
  },
  {
   "cell_type": "markdown",
   "metadata": {},
   "source": [
    "# Database Comparison"
   ]
  },
  {
   "cell_type": "markdown",
   "metadata": {},
   "source": [
    "#### Merge RNA"
   ]
  },
  {
   "cell_type": "code",
   "execution_count": 42,
   "metadata": {},
   "outputs": [],
   "source": [
    "pepMap = pepMapBase + 'DBC.RNA.map'\n",
    "tsv = tsvBase + 'DBC.RNA.tsv'\n",
    "ref = refBase + 'B721.RNA.ref'\n",
    "out = outBase + 'DBC.RNA.merge'\n",
    "mergeTablesNoTPM(pepMap, tsv, ref, out)"
   ]
  },
  {
   "cell_type": "markdown",
   "metadata": {},
   "source": [
    "#### Merge RPF"
   ]
  },
  {
   "cell_type": "code",
   "execution_count": 43,
   "metadata": {},
   "outputs": [],
   "source": [
    "pepMap = pepMapBase + 'DBC.RPF.map'\n",
    "tsv = tsvBase + 'DBC.RPF.tsv'\n",
    "ref = refBase + 'B721.RPF.ref'\n",
    "out = outBase + 'DBC.RPF.merge'\n",
    "mergeTablesNoTPM(pepMap, tsv, ref, out)"
   ]
  },
  {
   "cell_type": "markdown",
   "metadata": {},
   "source": [
    "#### Merge B721"
   ]
  },
  {
   "cell_type": "code",
   "execution_count": 44,
   "metadata": {},
   "outputs": [],
   "source": [
    "pepMap = pepMapBase + 'DBC.B721.map'\n",
    "tsv = tsvBase + 'DBC.B721.tsv'\n",
    "ref = refBase + 'B721.ref'\n",
    "out = outBase + 'DBC.B721.merge'\n",
    "mergeTablesNoTPM(pepMap, tsv, ref, out)"
   ]
  },
  {
   "cell_type": "markdown",
   "metadata": {},
   "source": [
    "#### Merge Pan Sample"
   ]
  },
  {
   "cell_type": "code",
   "execution_count": 45,
   "metadata": {},
   "outputs": [],
   "source": [
    "pepMap = pepMapBase + 'DBC.PanSample.map'\n",
    "tsv = tsvBase + 'DBC.PS.tsv'\n",
    "ref = refBase + 'PanSample.ref'\n",
    "out = outBase + 'DBC.PS.merge'\n",
    "mergeTablesNoTPM(pepMap, tsv, ref, out)"
   ]
  },
  {
   "cell_type": "markdown",
   "metadata": {},
   "source": [
    "#### Merge Null"
   ]
  },
  {
   "cell_type": "code",
   "execution_count": 46,
   "metadata": {},
   "outputs": [],
   "source": [
    "pepMap = pepMapBase + 'DBC.NULL.map'\n",
    "tsv = tsvBase + 'DBC.NULL.tsv'\n",
    "ref = refBase + 'B721.NULL.ref'\n",
    "out = outBase + 'DBC.NULL.merge'\n",
    "mergeTablesNoTPM(pepMap, tsv, ref, out)"
   ]
  }
 ],
 "metadata": {
  "kernelspec": {
   "display_name": "Python 3",
   "language": "python",
   "name": "python3"
  },
  "language_info": {
   "codemirror_mode": {
    "name": "ipython",
    "version": 3
   },
   "file_extension": ".py",
   "mimetype": "text/x-python",
   "name": "python",
   "nbconvert_exporter": "python",
   "pygments_lexer": "ipython3",
   "version": "3.7.0"
  }
 },
 "nbformat": 4,
 "nbformat_minor": 2
}

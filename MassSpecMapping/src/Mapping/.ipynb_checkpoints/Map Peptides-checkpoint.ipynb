{
 "cells": [
  {
   "cell_type": "markdown",
   "metadata": {},
   "source": [
    "# Map Peptides to Proteins"
   ]
  },
  {
   "cell_type": "markdown",
   "metadata": {},
   "source": [
    "#### Import Libraries & Setup Environment"
   ]
  },
  {
   "cell_type": "code",
   "execution_count": 1,
   "metadata": {},
   "outputs": [],
   "source": [
    "import pandas\n",
    "import re\n",
    "from tqdm import tqdm\n",
    "tsvBase = '../../data/tsv/'\n",
    "refBase = '../../data/ref/'\n",
    "mapBase = '../../data/map/'"
   ]
  },
  {
   "cell_type": "markdown",
   "metadata": {},
   "source": [
    "#### Define Functions"
   ]
  },
  {
   "cell_type": "code",
   "execution_count": 2,
   "metadata": {},
   "outputs": [],
   "source": [
    "def writeMatchesHelper(sequence, peptideUID, reference, out):\n",
    "    length = len(sequence)\n",
    "    for proteinUID, refseq in reference.items():\n",
    "        if sequence in refseq:\n",
    "            paddedSeq = '-' * 30 + refseq + '-' * 30\n",
    "            for match in re.finditer(sequence, paddedSeq):\n",
    "                start = match.start()\n",
    "                end = match.end()\n",
    "                upstream = paddedSeq[\n",
    "                    start - 30:\n",
    "                    start]\n",
    "                downstream = paddedSeq[\n",
    "                    end:\n",
    "                    end + 30]\n",
    "                newEntry = '\\t'.join([\n",
    "                    peptideUID,\n",
    "                    proteinUID,\n",
    "                    sequence,\n",
    "                    upstream,\n",
    "                    downstream]) + '\\n'\n",
    "                out.write(newEntry)"
   ]
  },
  {
   "cell_type": "code",
   "execution_count": 3,
   "metadata": {},
   "outputs": [],
   "source": [
    "def writeMatches(row, reference, out):\n",
    "    seqList = row.loc['sequenceList'].split(',')\n",
    "    peptideUID = row.loc['Peptide:UID']\n",
    "    for seq in seqList:\n",
    "        writeMatchesHelper(seq, peptideUID, reference, out)"
   ]
  },
  {
   "cell_type": "code",
   "execution_count": 4,
   "metadata": {},
   "outputs": [],
   "source": [
    "def readReference(ref):\n",
    "    reference = dict()\n",
    "    ref = open(ref, 'r')\n",
    "    for line in ref:\n",
    "        line = line[:-1]\n",
    "        line = line.split('\\t')\n",
    "        reference[line[0]] = line[3]\n",
    "    ref.close()\n",
    "    return(reference)"
   ]
  },
  {
   "cell_type": "code",
   "execution_count": 5,
   "metadata": {},
   "outputs": [],
   "source": [
    "def generateMap(peptides, ref, out):\n",
    "    peptides = pandas.read_csv(\n",
    "        peptides,\n",
    "        sep='\\t',\n",
    "        header=0,\n",
    "        index_col=False)\n",
    "    reference = readReference(ref)\n",
    "    out = open(out, 'w')\n",
    "    out.write('Peptide:UID\\tProtein:UID\\tsequence\\t30AA upstream\\t30AA downstream\\n')\n",
    "    tqdm.pandas(desc='Generate map')\n",
    "    peptides.progress_apply(\n",
    "        writeMatches,\n",
    "        axis=1,\n",
    "        args=(reference, out))\n",
    "    out.close()"
   ]
  },
  {
   "cell_type": "markdown",
   "metadata": {},
   "source": [
    "# Map Peptides"
   ]
  },
  {
   "cell_type": "markdown",
   "metadata": {},
   "source": [
    "## CLL"
   ]
  },
  {
   "cell_type": "markdown",
   "metadata": {},
   "source": [
    "#### CLL 5283 MHC-I"
   ]
  },
  {
   "cell_type": "code",
   "execution_count": 6,
   "metadata": {},
   "outputs": [
    {
     "name": "stderr",
     "output_type": "stream",
     "text": [
      "Generate map: 100%|██████████| 6058/6058 [07:34<00:00, 14.17it/s]\n"
     ]
    }
   ],
   "source": [
    "tsv = tsvBase + 'CLL.5283.MHCI.tsv'\n",
    "ref = refBase + 'CLL.5283.ref'\n",
    "out = mapBase + 'CLL.5283.MHCI.map'\n",
    "generateMap(tsv, ref, out)"
   ]
  },
  {
   "cell_type": "markdown",
   "metadata": {},
   "source": [
    "#### CLL 5328 MHC-I"
   ]
  },
  {
   "cell_type": "code",
   "execution_count": 7,
   "metadata": {},
   "outputs": [
    {
     "name": "stderr",
     "output_type": "stream",
     "text": [
      "Generate map: 100%|██████████| 396/396 [00:28<00:00, 13.46it/s]\n"
     ]
    }
   ],
   "source": [
    "tsv = tsvBase + 'CLL.5328.MHCI.tsv'\n",
    "ref = refBase + 'PanSample.ref'\n",
    "out = mapBase + 'CLL.5328.MHCI.map'\n",
    "generateMap(tsv, ref, out)"
   ]
  },
  {
   "cell_type": "markdown",
   "metadata": {},
   "source": [
    "#### CLL 5341 MHC-I"
   ]
  },
  {
   "cell_type": "code",
   "execution_count": 8,
   "metadata": {},
   "outputs": [
    {
     "name": "stderr",
     "output_type": "stream",
     "text": [
      "Generate map: 100%|██████████| 487/487 [00:36<00:00, 13.46it/s]\n"
     ]
    }
   ],
   "source": [
    "tsv = tsvBase + 'CLL.5341.MHCI.tsv'\n",
    "ref = refBase + 'PanSample.ref'\n",
    "out = mapBase + 'CLL.5341.MHCI.map'\n",
    "generateMap(tsv, ref, out)"
   ]
  },
  {
   "cell_type": "markdown",
   "metadata": {},
   "source": [
    "## GBM"
   ]
  },
  {
   "cell_type": "markdown",
   "metadata": {},
   "source": [
    "#### GBM H4512 MHC-I"
   ]
  },
  {
   "cell_type": "code",
   "execution_count": 9,
   "metadata": {},
   "outputs": [
    {
     "name": "stderr",
     "output_type": "stream",
     "text": [
      "Generate map: 100%|██████████| 4486/4486 [05:26<00:00, 13.72it/s]\n"
     ]
    }
   ],
   "source": [
    "tsv = tsvBase + 'GBM.H4512.MHCI.tsv'\n",
    "ref = refBase + 'PanSample.ref'\n",
    "out = mapBase + 'GBM.H4512.MHCI.map'\n",
    "generateMap(tsv, ref, out)"
   ]
  },
  {
   "cell_type": "markdown",
   "metadata": {},
   "source": [
    "#### GBM H4512 IFN MHC-I"
   ]
  },
  {
   "cell_type": "code",
   "execution_count": 10,
   "metadata": {},
   "outputs": [
    {
     "name": "stderr",
     "output_type": "stream",
     "text": [
      "Generate map: 100%|██████████| 5559/5559 [06:48<00:00, 13.59it/s]\n"
     ]
    }
   ],
   "source": [
    "tsv = tsvBase + 'GBM.H4512.IFN.MHCI.tsv'\n",
    "ref = refBase + 'PanSample.ref'\n",
    "out = mapBase + 'GBM.H4512.IFN.MHCI.map'\n",
    "generateMap(tsv, ref, out)"
   ]
  },
  {
   "cell_type": "markdown",
   "metadata": {},
   "source": [
    "#### GBM H4512 Whole Proteome"
   ]
  },
  {
   "cell_type": "code",
   "execution_count": null,
   "metadata": {},
   "outputs": [
    {
     "name": "stderr",
     "output_type": "stream",
     "text": [
      "Generate map:  27%|██▋       | 24564/91879 [32:14<1:24:33, 13.27it/s]"
     ]
    }
   ],
   "source": [
    "tsv = tsvBase + 'GBM.H4512.Whole.tsv'\n",
    "ref = refBase + 'PanSample.ref'\n",
    "out = mapBase + 'GBM.H4512.Whole.map'\n",
    "generateMap(tsv, ref, out)"
   ]
  },
  {
   "cell_type": "markdown",
   "metadata": {},
   "source": [
    "#### GBM H4198 MHC-I"
   ]
  },
  {
   "cell_type": "code",
   "execution_count": 11,
   "metadata": {},
   "outputs": [
    {
     "name": "stderr",
     "output_type": "stream",
     "text": [
      "Generate map: 100%|██████████| 5485/5485 [06:29<00:00, 14.08it/s]\n"
     ]
    }
   ],
   "source": [
    "tsv = tsvBase + 'GBM.H4198.MHCI.tsv'\n",
    "ref = refBase + 'PanSample.ref'\n",
    "out = mapBase + 'GBM.H4198.MHCI.map'\n",
    "generateMap(tsv, ref, out)"
   ]
  },
  {
   "cell_type": "markdown",
   "metadata": {},
   "source": [
    "#### GBM H4198 IFN MHC-I"
   ]
  },
  {
   "cell_type": "code",
   "execution_count": 12,
   "metadata": {},
   "outputs": [
    {
     "name": "stderr",
     "output_type": "stream",
     "text": [
      "Generate map: 100%|██████████| 4801/4801 [05:39<00:00, 14.13it/s]\n"
     ]
    }
   ],
   "source": [
    "tsv = tsvBase + 'GBM.H4198.IFN.MHCI.tsv'\n",
    "ref = refBase + 'PanSample.ref'\n",
    "out = mapBase + 'GBM.H4198.IFN.MHCI.map'\n",
    "generateMap(tsv, ref, out)"
   ]
  },
  {
   "cell_type": "markdown",
   "metadata": {},
   "source": [
    "#### GBM 7 MHC-I"
   ]
  },
  {
   "cell_type": "code",
   "execution_count": 13,
   "metadata": {},
   "outputs": [
    {
     "name": "stderr",
     "output_type": "stream",
     "text": [
      "Generate map: 100%|██████████| 279/279 [00:19<00:00, 14.20it/s]\n"
     ]
    }
   ],
   "source": [
    "tsv = tsvBase + 'GBM.7.MHCI.tsv'\n",
    "ref = refBase + 'GBM.7.ref'\n",
    "out = mapBase + 'GBM.7.MHCI.map'\n",
    "generateMap(tsv, ref, out)"
   ]
  },
  {
   "cell_type": "markdown",
   "metadata": {},
   "source": [
    "#### GBM 7 IFN MHC-I"
   ]
  },
  {
   "cell_type": "code",
   "execution_count": 14,
   "metadata": {},
   "outputs": [
    {
     "name": "stderr",
     "output_type": "stream",
     "text": [
      "Generate map: 100%|██████████| 1198/1198 [01:29<00:00, 14.74it/s]\n"
     ]
    }
   ],
   "source": [
    "tsv = tsvBase + 'GBM.7.IFN.MHCI.tsv'\n",
    "ref = refBase + 'GBM.7.ref'\n",
    "out = mapBase + 'GBM.7.IFN.MHCI.map'\n",
    "generateMap(tsv, ref, out)"
   ]
  },
  {
   "cell_type": "markdown",
   "metadata": {},
   "source": [
    "## Melanoma"
   ]
  },
  {
   "cell_type": "markdown",
   "metadata": {},
   "source": [
    "#### MEL 2 MHC-I"
   ]
  },
  {
   "cell_type": "code",
   "execution_count": 6,
   "metadata": {},
   "outputs": [
    {
     "name": "stderr",
     "output_type": "stream",
     "text": [
      "Generate map: 100%|██████████| 6064/6064 [08:38<00:00, 14.03it/s]\n"
     ]
    }
   ],
   "source": [
    "tsv = tsvBase + 'MEL.2.MHCI.tsv'\n",
    "ref = refBase + 'MEL.2.ref'\n",
    "out = mapBase + 'MEL.2.MHCI.map'\n",
    "generateMap(tsv, ref, out)"
   ]
  },
  {
   "cell_type": "markdown",
   "metadata": {},
   "source": [
    "#### MEL 2 10IP MHC-I"
   ]
  },
  {
   "cell_type": "code",
   "execution_count": 7,
   "metadata": {},
   "outputs": [
    {
     "name": "stderr",
     "output_type": "stream",
     "text": [
      "Generate map: 100%|██████████| 2561/2561 [03:38<00:00, 12.32it/s]\n"
     ]
    }
   ],
   "source": [
    "tsv = tsvBase + 'MEL.2.10IP.MHCI.tsv'\n",
    "ref = refBase + 'MEL.2.ref'\n",
    "out = mapBase + 'MEL.2.10IP.MHCI.map'\n",
    "generateMap(tsv, ref, out)"
   ]
  },
  {
   "cell_type": "markdown",
   "metadata": {},
   "source": [
    "#### MEL 2 SEL MHC-I"
   ]
  },
  {
   "cell_type": "code",
   "execution_count": 8,
   "metadata": {},
   "outputs": [
    {
     "name": "stderr",
     "output_type": "stream",
     "text": [
      "Generate map: 100%|██████████| 6275/6275 [08:45<00:00, 12.96it/s]\n"
     ]
    }
   ],
   "source": [
    "tsv = tsvBase + 'MEL.2s.MHCI.tsv'\n",
    "ref = refBase + 'MEL.2.ref'\n",
    "out = mapBase + 'MEL.2s.MHCI.map'\n",
    "generateMap(tsv, ref, out)"
   ]
  },
  {
   "cell_type": "markdown",
   "metadata": {},
   "source": [
    "#### MEL 2 SEL IFN MHC-I"
   ]
  },
  {
   "cell_type": "code",
   "execution_count": 9,
   "metadata": {},
   "outputs": [
    {
     "name": "stderr",
     "output_type": "stream",
     "text": [
      "Generate map: 100%|██████████| 5052/5052 [06:54<00:00, 12.18it/s]\n"
     ]
    }
   ],
   "source": [
    "tsv = tsvBase + 'MEL.2s.IFN.MHCI.tsv'\n",
    "ref = refBase + 'MEL.2.ref'\n",
    "out = mapBase + 'MEL.2s.IFN.MHCI.map'\n",
    "generateMap(tsv, ref, out)"
   ]
  },
  {
   "cell_type": "markdown",
   "metadata": {},
   "source": [
    "#### MEL 6 MHC-I"
   ]
  },
  {
   "cell_type": "code",
   "execution_count": null,
   "metadata": {},
   "outputs": [],
   "source": [
    "tsv = tsvBase + 'MEL.6.MHCI.tsv'\n",
    "ref = refBase + 'PanSample.ref'\n",
    "out = mapBase + 'MEL.6.MHCI.map'\n",
    "generateMap(tsv, ref, out)"
   ]
  },
  {
   "cell_type": "markdown",
   "metadata": {},
   "source": [
    "#### MEL 6 IFN MHC-I"
   ]
  },
  {
   "cell_type": "code",
   "execution_count": null,
   "metadata": {},
   "outputs": [],
   "source": [
    "tsv = tsvBase + 'MEL.6.IFN.MHCI.tsv'\n",
    "ref = refBase + 'PanSample.ref'\n",
    "out = mapBase + 'MEL.6.IFN.MHCI.map'\n",
    "generateMap(tsv, ref, out)"
   ]
  },
  {
   "cell_type": "markdown",
   "metadata": {},
   "source": [
    "#### MEL 11 MHC-I"
   ]
  },
  {
   "cell_type": "code",
   "execution_count": 10,
   "metadata": {},
   "outputs": [
    {
     "name": "stderr",
     "output_type": "stream",
     "text": [
      "Generate map: 100%|██████████| 2688/2688 [04:24<00:00, 10.60it/s]\n"
     ]
    }
   ],
   "source": [
    "tsv = tsvBase + 'MEL.11.MHCI.tsv'\n",
    "ref = refBase + 'MEL.11.ref'\n",
    "out = mapBase + 'MEL.11.MHCI.map'\n",
    "generateMap(tsv, ref, out)"
   ]
  },
  {
   "cell_type": "markdown",
   "metadata": {},
   "source": [
    "#### MEL 11 IFN MHC-I"
   ]
  },
  {
   "cell_type": "code",
   "execution_count": 11,
   "metadata": {},
   "outputs": [
    {
     "name": "stderr",
     "output_type": "stream",
     "text": [
      "Generate map: 100%|██████████| 872/872 [01:25<00:00, 10.18it/s]\n"
     ]
    }
   ],
   "source": [
    "tsv = tsvBase + 'MEL.11.IFN.MHCI.tsv'\n",
    "ref = refBase + 'MEL.11.ref'\n",
    "out = mapBase + 'MEL.11.IFN.MHCI.map'\n",
    "generateMap(tsv, ref, out)"
   ]
  },
  {
   "cell_type": "markdown",
   "metadata": {},
   "source": [
    "#### MEL 15 MHC-I"
   ]
  },
  {
   "cell_type": "code",
   "execution_count": null,
   "metadata": {},
   "outputs": [],
   "source": [
    "tsv = tsvBase + 'MEL.15.MHCI.tsv'\n",
    "ref = refBase + 'PanSample.ref'\n",
    "out = mapBase + 'MEL.15.MHCI.map'\n",
    "generateMap(tsv, ref, out)"
   ]
  },
  {
   "cell_type": "markdown",
   "metadata": {},
   "source": [
    "#### MEL 15 IFN MHC-I"
   ]
  },
  {
   "cell_type": "code",
   "execution_count": null,
   "metadata": {},
   "outputs": [],
   "source": [
    "tsv = tsvBase + 'MEL.15.IFN.MHCI.tsv'\n",
    "ref = refBase + 'PanSample.ref'\n",
    "out = mapBase + 'MEL.15.IFN.MHCI.map'\n",
    "generateMap(tsv, ref, out)"
   ]
  },
  {
   "cell_type": "markdown",
   "metadata": {},
   "source": [
    "## Ovarian Cancer"
   ]
  },
  {
   "cell_type": "markdown",
   "metadata": {},
   "source": [
    "#### OV SLS3-M1"
   ]
  },
  {
   "cell_type": "code",
   "execution_count": null,
   "metadata": {},
   "outputs": [],
   "source": [
    "tsv = tsvBase + 'OV.SLS3-M1.MHCI.tsv'\n",
    "ref = refBase + 'PanSample.ref'\n",
    "out = mapBase + 'OV.SLS3-M1.MHCI.map'\n",
    "generateMap(tsv, ref, out)"
   ]
  },
  {
   "cell_type": "markdown",
   "metadata": {},
   "source": [
    "#### OV CP-594"
   ]
  },
  {
   "cell_type": "code",
   "execution_count": null,
   "metadata": {},
   "outputs": [],
   "source": [
    "tsv = tsvBase + 'OV.CP-594.MHCI.tsv'\n",
    "ref = refBase + 'PanSample.ref'\n",
    "out = mapBase + 'OV.CP-594.MHCI.map'\n",
    "generateMap(tsv, ref, out)"
   ]
  },
  {
   "cell_type": "markdown",
   "metadata": {},
   "source": [
    "## Renal Cell Carcinoma"
   ]
  },
  {
   "cell_type": "markdown",
   "metadata": {},
   "source": [
    "#### RCC 9"
   ]
  },
  {
   "cell_type": "code",
   "execution_count": null,
   "metadata": {},
   "outputs": [],
   "source": [
    "tsv = tsvBase + 'RCC.9.MHCI.tsv'\n",
    "ref = refBase + 'PanSample.ref'\n",
    "out = mapBase + 'RCC.9.MHCI.map'\n",
    "generateMap(tsv, ref, out)"
   ]
  },
  {
   "cell_type": "markdown",
   "metadata": {},
   "source": [
    "## B721.221"
   ]
  },
  {
   "cell_type": "markdown",
   "metadata": {},
   "source": [
    "#### B721 MHC-I"
   ]
  },
  {
   "cell_type": "code",
   "execution_count": null,
   "metadata": {},
   "outputs": [],
   "source": [
    "tsv = tsvBase + 'B721.MHCI.tsv'\n",
    "ref = refBase + 'PanSample.ref'\n",
    "out = mapBase + 'B721.MHCI.map'\n",
    "generateMap(tsv, ref, out)"
   ]
  },
  {
   "cell_type": "markdown",
   "metadata": {},
   "source": [
    "#### B721 Whole Proteome"
   ]
  },
  {
   "cell_type": "code",
   "execution_count": null,
   "metadata": {
    "scrolled": false
   },
   "outputs": [],
   "source": [
    "tsv = tsvBase + 'B721.Whole.tsv'\n",
    "ref = refBase + 'PanSample.ref'\n",
    "out = mapBase + 'B721.Whole.map'\n",
    "generateMap(tsv, ref, out)"
   ]
  },
  {
   "cell_type": "markdown",
   "metadata": {},
   "source": [
    "### Database Comparison"
   ]
  },
  {
   "cell_type": "markdown",
   "metadata": {},
   "source": [
    "#### Null"
   ]
  },
  {
   "cell_type": "code",
   "execution_count": null,
   "metadata": {},
   "outputs": [],
   "source": [
    "tsv = tsvBase + 'DBC.NULL.tsv'\n",
    "ref = refBase + 'B721.NULL.ref'\n",
    "out = mapBase + 'DBC.NULL.map'\n",
    "generateMap(tsv, ref, out)"
   ]
  },
  {
   "cell_type": "markdown",
   "metadata": {},
   "source": [
    "#### B721"
   ]
  },
  {
   "cell_type": "code",
   "execution_count": null,
   "metadata": {},
   "outputs": [],
   "source": [
    "tsv = tsvBase + 'DBC.B721.tsv'\n",
    "ref = refBase + 'B721.ref'\n",
    "out = mapBase + 'DBC.B721.map'\n",
    "generateMap(tsv, ref, out)"
   ]
  },
  {
   "cell_type": "markdown",
   "metadata": {},
   "source": [
    "#### Pan Sample"
   ]
  },
  {
   "cell_type": "code",
   "execution_count": null,
   "metadata": {},
   "outputs": [],
   "source": [
    "tsv = tsvBase + 'DBC.PS.tsv'\n",
    "ref = refBase + 'PanSample.ref'\n",
    "out = mapBase + 'DBC.PanSample.map'\n",
    "generateMap(tsv, ref, out)"
   ]
  },
  {
   "cell_type": "markdown",
   "metadata": {},
   "source": [
    "#### RPF"
   ]
  },
  {
   "cell_type": "code",
   "execution_count": null,
   "metadata": {},
   "outputs": [],
   "source": [
    "tsv = tsvBase + 'DBC.RPF.tsv'\n",
    "ref = refBase + 'B721.RPF.ref'\n",
    "out = mapBase + 'DBC.RPF.map'\n",
    "generateMap(tsv, ref, out)"
   ]
  },
  {
   "cell_type": "markdown",
   "metadata": {},
   "source": [
    "#### RNA"
   ]
  },
  {
   "cell_type": "code",
   "execution_count": null,
   "metadata": {},
   "outputs": [],
   "source": [
    "tsv = tsvBase + 'DBC.RNA.tsv'\n",
    "ref = refBase + 'B721.RNA.ref'\n",
    "out = mapBase + 'DBC.RNA.map'\n",
    "generateMap(tsv, ref, out)"
   ]
  }
 ],
 "metadata": {
  "kernelspec": {
   "display_name": "Python 3",
   "language": "python",
   "name": "python3"
  },
  "language_info": {
   "codemirror_mode": {
    "name": "ipython",
    "version": 3
   },
   "file_extension": ".py",
   "mimetype": "text/x-python",
   "name": "python",
   "nbconvert_exporter": "python",
   "pygments_lexer": "ipython3",
   "version": "3.7.0"
  }
 },
 "nbformat": 4,
 "nbformat_minor": 2
}

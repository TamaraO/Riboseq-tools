{
 "cells": [
  {
   "cell_type": "code",
   "execution_count": 1,
   "metadata": {},
   "outputs": [],
   "source": [
    "import pandas\n",
    "from tqdm import tqdm"
   ]
  },
  {
   "cell_type": "code",
   "execution_count": 2,
   "metadata": {},
   "outputs": [],
   "source": [
    "mapping = pandas.read_csv(\n",
    "    '../../data/tsv/orfTypeMapping.tsv',\n",
    "    sep='\\t',\n",
    "    header=0,\n",
    "    index_col=['ORF_ID']\n",
    ")\n",
    "def addType(row, aType):\n",
    "    oType = row.loc['orfType']\n",
    "    if oType in {'canonical:ucsc', 'canonical:both', 'canonical:variant'}:\n",
    "        return('Canonical')\n",
    "    else:\n",
    "        ORF_ID = row.loc['ORF_ID']\n",
    "        return(mapping.loc[ORF_ID][aType])"
   ]
  },
  {
   "cell_type": "code",
   "execution_count": 3,
   "metadata": {},
   "outputs": [],
   "source": [
    "def getSpectralRecall(row):\n",
    "    return(min(\n",
    "        (\n",
    "            100.0 * (\n",
    "                row.loc['backbone_cleavage_score'] /\n",
    "                (len(row.loc['sequence']) - 1))\n",
    "        ),\n",
    "        100.0\n",
    "    ))\n",
    "def getFDR(row):\n",
    "    if row.loc['deltaForwardReverseScore'] < 0:\n",
    "        return(0)\n",
    "    return(1)"
   ]
  },
  {
   "cell_type": "code",
   "execution_count": 4,
   "metadata": {},
   "outputs": [],
   "source": [
    "THRESHOLD = dict()\n",
    "for line in open('../../data/tsv/fdrThresholds.tsv', 'r'):\n",
    "    line = line[:-1].split('\\t')\n",
    "    THRESHOLD[line[0]] = (\n",
    "        line[1],\n",
    "        line[2],\n",
    "        line[3],\n",
    "        line[4]\n",
    "    )\n",
    "for key, values in THRESHOLD.items():\n",
    "    if key != 'Type':\n",
    "        THRESHOLD[key] = tuple(map(int, values))\n",
    "def fdrFilter(row, threshold):\n",
    "    fdrType = row.loc['fdrType']\n",
    "    thresh = threshold[fdrType]\n",
    "    if not row.loc['score'] > thresh[0]:\n",
    "        return(False)\n",
    "    if not row.loc['percent_scored_peak_intensity'] > thresh[1]:\n",
    "        return(False)\n",
    "    if not row.loc['backbone_cleavage_score'] > thresh[2]:\n",
    "        return(False)\n",
    "    if not row.loc['SpectralRecall'] > thresh[3]:\n",
    "        return(False)\n",
    "    return(True)"
   ]
  },
  {
   "cell_type": "code",
   "execution_count": 5,
   "metadata": {},
   "outputs": [],
   "source": [
    "def updateTypes(pep, out):\n",
    "    df = pandas.read_csv(\n",
    "        pep,\n",
    "        sep='\\t',\n",
    "        header=0,\n",
    "        index_col=['Peptide:UID']\n",
    "    )\n",
    "    df['SpectralRecall'] = df.apply(getSpectralRecall, axis=1)\n",
    "    df['mergeType'] = df.apply(addType, axis=1, args=('mergeType', ))\n",
    "    df['fdrType'] = df.apply(addType, axis=1, args=('fdrType', ))\n",
    "    df['plotType'] = df.apply(addType, axis=1, args=('plotType', ))\n",
    "    df['condType'] = df.apply(addType, axis=1, args=('condType', ))\n",
    "    df['fdr'] = df.apply(getFDR, axis=1)\n",
    "    if 'MHCI' in pep:\n",
    "        df['fdrFilter'] = df.apply(fdrFilter, axis=1, args=(THRESHOLD, ))\n",
    "    df.to_csv(\n",
    "        out,\n",
    "        sep='\\t',\n",
    "        header=True,\n",
    "        index=True\n",
    "    )"
   ]
  },
  {
   "cell_type": "code",
   "execution_count": 6,
   "metadata": {},
   "outputs": [
    {
     "name": "stderr",
     "output_type": "stream",
     "text": [
      "100%|██████████| 22/22 [00:24<00:00,  1.66it/s]\n"
     ]
    }
   ],
   "source": [
    "conditions = [\n",
    "#    'B721.MHCI',\n",
    "#    'B721.Whole',\n",
    "    'CLL.5283.MHCI',\n",
    "    'CLL.5328.MHCI',\n",
    "    'CLL.5341.MHCI',\n",
    "    'MEL.2.MHCI',\n",
    "    'MEL.2.10IP.MHCI',\n",
    "    'MEL.2s.MHCI',\n",
    "    'MEL.2s.IFN.MHCI',\n",
    "    'MEL.6.MHCI',\n",
    "    'MEL.6.IFN.MHCI',\n",
    "    'MEL.11.MHCI',\n",
    "    'MEL.11.IFN.MHCI',\n",
    "    'MEL.15.MHCI',\n",
    "    'MEL.15.IFN.MHCI',\n",
    "    'GBM.H4512.MHCI',\n",
    "    'GBM.H4512.IFN.MHCI',\n",
    "#    'GBM.H4512.Whole',\n",
    "    'GBM.H4198.MHCI',\n",
    "    'GBM.H4198.IFN.MHCI',\n",
    "    'GBM.7.MHCI',\n",
    "    'GBM.7.IFN.MHCI',\n",
    "    'OV.CP-594.MHCI',\n",
    "    'OV.SLS3-M1.MHCI',\n",
    "    'RCC.9.MHCI'\n",
    "]\n",
    "for cond in tqdm(conditions):\n",
    "    pep = '../../data/pep/' + cond + '.pep'\n",
    "    out = '../../data/final/' + cond + '.pep'\n",
    "    updateTypes(pep, out)"
   ]
  }
 ],
 "metadata": {
  "kernelspec": {
   "display_name": "Python 3",
   "language": "python",
   "name": "python3"
  },
  "language_info": {
   "codemirror_mode": {
    "name": "ipython",
    "version": 3
   },
   "file_extension": ".py",
   "mimetype": "text/x-python",
   "name": "python",
   "nbconvert_exporter": "python",
   "pygments_lexer": "ipython3",
   "version": "3.7.0"
  }
 },
 "nbformat": 4,
 "nbformat_minor": 2
}

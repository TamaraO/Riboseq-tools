{
 "cells": [
  {
   "cell_type": "markdown",
   "metadata": {},
   "source": [
    "# Add ORF Type"
   ]
  },
  {
   "cell_type": "markdown",
   "metadata": {},
   "source": [
    "#### Import Libraries & Setup Environment"
   ]
  },
  {
   "cell_type": "code",
   "execution_count": 1,
   "metadata": {},
   "outputs": [],
   "source": [
    "import pandas\n",
    "import numpy\n",
    "CANONICAL = {\n",
    "    'CDS',\n",
    "    'Trunc',\n",
    "    'Variant',\n",
    "    'canonical',\n",
    "    'canonical_extended',\n",
    "    'canonical_truncated'\n",
    "}"
   ]
  },
  {
   "cell_type": "markdown",
   "metadata": {},
   "source": [
    "#### Define Functions"
   ]
  },
  {
   "cell_type": "code",
   "execution_count": 2,
   "metadata": {},
   "outputs": [],
   "source": [
    "def nuORFID(header):\n",
    "    header = header.split(' | ')[1]\n",
    "    header = header.replace('~', '|')\n",
    "    return(header)"
   ]
  },
  {
   "cell_type": "code",
   "execution_count": 3,
   "metadata": {},
   "outputs": [],
   "source": [
    "def ucscType(header, ucscMap):\n",
    "    if header in ucscMap:\n",
    "        return('canonical:both')\n",
    "    else:\n",
    "        return('canonical:ucsc')"
   ]
  },
  {
   "cell_type": "code",
   "execution_count": 4,
   "metadata": {},
   "outputs": [],
   "source": [
    "def nuORFType(header, ucscMap):\n",
    "    ORF_ID = nuORFID(header)\n",
    "    if ORF_ID in ucscMap:\n",
    "        return('canonical:both')\n",
    "    orfType = ORF_ID.split('|')[-1]\n",
    "    if orfType not in CANONICAL:\n",
    "        return(orfType)\n",
    "    else:\n",
    "        return('canonical:gencode')"
   ]
  },
  {
   "cell_type": "code",
   "execution_count": 5,
   "metadata": {},
   "outputs": [],
   "source": [
    "def variantORFType(header):\n",
    "    orfType = header.split('|')[2]\n",
    "    if orfType in CANONICAL:\n",
    "        return('canonical:variant')\n",
    "    return(orfType)"
   ]
  },
  {
   "cell_type": "code",
   "execution_count": 6,
   "metadata": {},
   "outputs": [],
   "source": [
    "def parseUcscMap(path):\n",
    "    ucscMap = dict()\n",
    "    for line in open(path, 'r'):\n",
    "        line = line[:-1]\n",
    "        line = line.split('\\t')\n",
    "        if line[1] != '':\n",
    "            line[1] = line[1].split(',')\n",
    "            for nu in line[1]:\n",
    "                ucscMap[line[0]] = nu\n",
    "                ucscMap[nu] = line[0]\n",
    "    return(ucscMap)"
   ]
  },
  {
   "cell_type": "code",
   "execution_count": 7,
   "metadata": {},
   "outputs": [],
   "source": [
    "def getType(row, ucscMap):\n",
    "    category = row.loc['category']\n",
    "    if category == 'UCSC':\n",
    "        return(ucscType(row.loc['header'], ucscMap))\n",
    "    if category == 'Contaminant':\n",
    "        return('Contaminant')\n",
    "    if category == 'nuORF':\n",
    "        return(nuORFType(row.loc['header'], ucscMap))\n",
    "    if category == 'Variant':\n",
    "        return(variantORFType(row.loc['header']))\n",
    "    else:\n",
    "        return(numpy.nan)"
   ]
  },
  {
   "cell_type": "code",
   "execution_count": 8,
   "metadata": {},
   "outputs": [],
   "source": [
    "def updateRef(ref, ucscMap, out):\n",
    "    ref = pandas.read_csv(\n",
    "        ref,\n",
    "        sep='\\t',\n",
    "        header=0,\n",
    "        index_col=False\n",
    "    )\n",
    "    ucscMap = parseUcscMap(ucscMap)\n",
    "    ref['orfType'] = ref.apply(\n",
    "        getType,\n",
    "        axis=1,\n",
    "        args=(ucscMap,)\n",
    "    )\n",
    "    ref.to_csv(\n",
    "        out,\n",
    "        sep='\\t',\n",
    "        header=True,\n",
    "        index=False\n",
    "    )"
   ]
  },
  {
   "cell_type": "markdown",
   "metadata": {},
   "source": [
    "## Pan Sample"
   ]
  },
  {
   "cell_type": "code",
   "execution_count": 9,
   "metadata": {},
   "outputs": [],
   "source": [
    "ref = '../../data/ref/PanSample.ref'\n",
    "ucscMap = '../../data/map/ucsc.map'\n",
    "out = '../../data/ref/PanSample.ref'\n",
    "updateRef(ref, ucscMap, out)"
   ]
  },
  {
   "cell_type": "markdown",
   "metadata": {},
   "source": [
    "## Variants"
   ]
  },
  {
   "cell_type": "markdown",
   "metadata": {},
   "source": [
    "### CLL 5283"
   ]
  },
  {
   "cell_type": "code",
   "execution_count": 10,
   "metadata": {},
   "outputs": [],
   "source": [
    "ref = '../../data/ref/CLL.5283.ref'\n",
    "ucscMap = '../../data/map/ucsc.map'\n",
    "out = '../../data/ref/CLL.5283.ref'\n",
    "updateRef(ref, ucscMap, out)"
   ]
  },
  {
   "cell_type": "markdown",
   "metadata": {},
   "source": [
    "### Mel 11"
   ]
  },
  {
   "cell_type": "code",
   "execution_count": 11,
   "metadata": {},
   "outputs": [],
   "source": [
    "ref = '../../data/ref/MEL.11.ref'\n",
    "ucscMap = '../../data/map/ucsc.map'\n",
    "out = '../../data/ref/MEL.11.ref'\n",
    "updateRef(ref, ucscMap, out)"
   ]
  },
  {
   "cell_type": "markdown",
   "metadata": {},
   "source": [
    "### Mel 2"
   ]
  },
  {
   "cell_type": "code",
   "execution_count": 12,
   "metadata": {},
   "outputs": [],
   "source": [
    "ref = '../../data/ref/MEL.2.ref'\n",
    "ucscMap = '../../data/map/ucsc.map'\n",
    "out = '../../data/ref/MEL.2.ref'\n",
    "updateRef(ref, ucscMap, out)"
   ]
  },
  {
   "cell_type": "markdown",
   "metadata": {},
   "source": [
    "### Mel 5"
   ]
  },
  {
   "cell_type": "code",
   "execution_count": 13,
   "metadata": {},
   "outputs": [],
   "source": [
    "ref = '../../data/ref/MEL.5.ref'\n",
    "ucscMap = '../../data/map/ucsc.map'\n",
    "out = '../../data/ref/MEL.5.ref'\n",
    "updateRef(ref, ucscMap, out)"
   ]
  },
  {
   "cell_type": "markdown",
   "metadata": {},
   "source": [
    "### GBM 7"
   ]
  },
  {
   "cell_type": "code",
   "execution_count": 14,
   "metadata": {},
   "outputs": [],
   "source": [
    "ref = '../../data/ref/GBM.7.ref'\n",
    "ucscMap = '../../data/map/ucsc.map'\n",
    "out = '../../data/ref/GBM.7.ref'\n",
    "updateRef(ref, ucscMap, out)"
   ]
  },
  {
   "cell_type": "markdown",
   "metadata": {},
   "source": [
    "## Missing Pan Sample"
   ]
  },
  {
   "cell_type": "code",
   "execution_count": 15,
   "metadata": {},
   "outputs": [],
   "source": [
    "ref = '../../data/ref/MissingCanonical.ref'\n",
    "missingMap = '../../data/map/missing.map'\n",
    "out = '../../data/ref/MissingCanonical.ref'\n",
    "updateRef(ref, missingMap, out)"
   ]
  }
 ],
 "metadata": {
  "kernelspec": {
   "display_name": "Python 3",
   "language": "python",
   "name": "python3"
  },
  "language_info": {
   "codemirror_mode": {
    "name": "ipython",
    "version": 3
   },
   "file_extension": ".py",
   "mimetype": "text/x-python",
   "name": "python",
   "nbconvert_exporter": "python",
   "pygments_lexer": "ipython3",
   "version": "3.7.0"
  }
 },
 "nbformat": 4,
 "nbformat_minor": 2
}

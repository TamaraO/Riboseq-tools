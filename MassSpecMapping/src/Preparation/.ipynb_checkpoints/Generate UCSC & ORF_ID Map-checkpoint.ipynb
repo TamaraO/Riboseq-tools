{
 "cells": [
  {
   "cell_type": "markdown",
   "metadata": {},
   "source": [
    "# Generate UCSC & ORF_ID Map"
   ]
  },
  {
   "cell_type": "markdown",
   "metadata": {},
   "source": [
    "#### Import Libraries & Setup Environment"
   ]
  },
  {
   "cell_type": "code",
   "execution_count": 1,
   "metadata": {},
   "outputs": [],
   "source": [
    "import pandas\n",
    "import numpy\n",
    "from tqdm import tqdm"
   ]
  },
  {
   "cell_type": "markdown",
   "metadata": {},
   "source": [
    "#### Define Functions"
   ]
  },
  {
   "cell_type": "code",
   "execution_count": 2,
   "metadata": {},
   "outputs": [],
   "source": [
    "def nuORFID(header):\n",
    "    header = header.split(' | ')[1]\n",
    "    header = header.replace('~', '|')\n",
    "    return(header)"
   ]
  },
  {
   "cell_type": "markdown",
   "metadata": {},
   "source": [
    "### Generating UCSC to nuORF Map\n",
    "Given a reference, generates a map of exact matches from the nuORF sequences."
   ]
  },
  {
   "cell_type": "code",
   "execution_count": 3,
   "metadata": {},
   "outputs": [],
   "source": [
    "def findMatch(sequence, df):\n",
    "    df = df[df['sequence'] == sequence]\n",
    "    matches = df.shape[0]\n",
    "    if matches == 0:\n",
    "        return(numpy.nan)\n",
    "    return(','.join(list(map(\n",
    "        lambda x: nuORFID(x),\n",
    "        df['header'].values\n",
    "    ))))"
   ]
  },
  {
   "cell_type": "code",
   "execution_count": 4,
   "metadata": {},
   "outputs": [],
   "source": [
    "def ucscMatches(reference, out):\n",
    "    ucsc = reference[reference['category'] == 'UCSC'].copy()\n",
    "    nuORF = reference[reference['category'] == 'nuORF'].copy()\n",
    "    tqdm.pandas(desc='Find Matches')\n",
    "    ucsc['match'] = ucsc['sequence'].progress_apply(findMatch, args=(nuORF, ))\n",
    "    ucsc = ucsc[['header', 'match']]\n",
    "    ucsc.to_csv(out, sep='\\t', header=False, index=False)"
   ]
  },
  {
   "cell_type": "markdown",
   "metadata": {},
   "source": [
    "## Generate Pan Sample ucsc map"
   ]
  },
  {
   "cell_type": "code",
   "execution_count": 5,
   "metadata": {},
   "outputs": [
    {
     "name": "stderr",
     "output_type": "stream",
     "text": [
      "Find Matches: 100%|██████████| 52788/52788 [41:40<00:00, 21.11it/s]\n"
     ]
    }
   ],
   "source": [
    "data = pandas.read_csv('../../data/ref/PanSample.ref', sep='\\t', header=0, index_col=False)\n",
    "ucscMatches(data, '../../data/map/ucsc.map')"
   ]
  },
  {
   "cell_type": "markdown",
   "metadata": {},
   "source": [
    "## Generate Pan Sample + Missing & UCSC Map"
   ]
  },
  {
   "cell_type": "code",
   "execution_count": 6,
   "metadata": {
    "scrolled": true
   },
   "outputs": [
    {
     "name": "stderr",
     "output_type": "stream",
     "text": [
      "Find Matches: 100%|██████████| 52788/52788 [52:03<00:00, 16.90it/s]  \n"
     ]
    }
   ],
   "source": [
    "data= pandas.read_csv('../../data/ref/MissingCanonical.ref', sep='\\t', header=0, index_col=False)\n",
    "ucscMatches(data, '../../data/map/missing.map')"
   ]
  }
 ],
 "metadata": {
  "kernelspec": {
   "display_name": "Python 3",
   "language": "python",
   "name": "python3"
  },
  "language_info": {
   "codemirror_mode": {
    "name": "ipython",
    "version": 3
   },
   "file_extension": ".py",
   "mimetype": "text/x-python",
   "name": "python",
   "nbconvert_exporter": "python",
   "pygments_lexer": "ipython3",
   "version": "3.7.0"
  }
 },
 "nbformat": 4,
 "nbformat_minor": 2
}

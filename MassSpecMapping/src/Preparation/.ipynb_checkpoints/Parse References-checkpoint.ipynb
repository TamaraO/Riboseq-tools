{
 "cells": [
  {
   "cell_type": "markdown",
   "metadata": {},
   "source": [
    "# Preparing Reference Fasta for Searches\n",
    "Converting Karl's search fasta files for peptide assignment.\n",
    "The following references have been used:\n",
    "* B721 RNA\n",
    "* B721 RPF\n",
    "* B721 RibORF + Price\n",
    "* Pan Sample\n",
    "* Pan Sample + Mel 11 Variants\n",
    "* Pan Sample + CLL 5 Variants"
   ]
  },
  {
   "cell_type": "markdown",
   "metadata": {},
   "source": [
    "#### Import Libraries & Setup Environment"
   ]
  },
  {
   "cell_type": "code",
   "execution_count": 1,
   "metadata": {},
   "outputs": [],
   "source": [
    "import subprocess"
   ]
  },
  {
   "cell_type": "markdown",
   "metadata": {},
   "source": [
    "#### Define Functions"
   ]
  },
  {
   "cell_type": "code",
   "execution_count": 2,
   "metadata": {},
   "outputs": [],
   "source": [
    "def writeLine(index, header, category, sequence, out):\n",
    "    indexStr = 'Protein:{:06d}'.format(index)\n",
    "    entry = (\n",
    "        indexStr + '\\t' +\n",
    "        header + '\\t' +\n",
    "        category + '\\t' +\n",
    "        sequence + '\\n')\n",
    "    out.write(entry)"
   ]
  },
  {
   "cell_type": "code",
   "execution_count": 3,
   "metadata": {},
   "outputs": [],
   "source": [
    "def getCategory(line):\n",
    "    start = line[0:3]\n",
    "    if start == '>uc':\n",
    "        return('UCSC')\n",
    "    elif start in {'>sp', '>tr'}:\n",
    "        return('Contaminant')\n",
    "    elif start in {'>EN', '>T0', '>T1', '>T2', '>T3', '>TC'}:\n",
    "        return('nuORF')\n",
    "    elif start == '>sm':\n",
    "        return('smORF')\n",
    "    else:\n",
    "        return('[ERROR]:' + header)"
   ]
  },
  {
   "cell_type": "code",
   "execution_count": 4,
   "metadata": {},
   "outputs": [],
   "source": [
    "def parseFasta(fasta, out):\n",
    "    fasta = open(fasta, 'r')\n",
    "    out = open(out, 'w')\n",
    "    out.write('Protein:UID\\theader\\tcategory\\tsequence\\n')\n",
    "    header = ''\n",
    "    category = ''\n",
    "    sequence = ''\n",
    "    index = 0\n",
    "    for line in fasta:\n",
    "        if (line[0] == '>') and (header != ''):\n",
    "            index += 1\n",
    "            writeLine(index, header, category, sequence, out)\n",
    "            header = ''\n",
    "            category = ''\n",
    "            sequence = ''\n",
    "        if line[0] == '>':\n",
    "            header = line[1:-1]\n",
    "            category = getCategory(line)\n",
    "        else:\n",
    "            sequence = sequence + line[:-1]\n",
    "    index += 1\n",
    "    writeLine(index, header, category, sequence, out)\n",
    "    fasta.close()\n",
    "    out.close()"
   ]
  },
  {
   "cell_type": "code",
   "execution_count": 5,
   "metadata": {},
   "outputs": [],
   "source": [
    "def addVariants(ref, fasta, out):\n",
    "    out = open(out, 'w')\n",
    "    ref = open(ref, 'r')\n",
    "    index = ''\n",
    "    for line in ref:\n",
    "        out.write(line)\n",
    "        index = line.split('\\t')[0]\n",
    "    ref.close()\n",
    "    index = int(index[index.find(':') + 1:])\n",
    "    header = ''\n",
    "    category = 'Variant'\n",
    "    sequence = ''\n",
    "    fasta = open(fasta, 'r')\n",
    "    for line in fasta:\n",
    "        if (line[0] == '>') and (header != ''):\n",
    "            index += 1\n",
    "            writeLine(index, header, category, sequence, out)\n",
    "            header = ''\n",
    "            sequence = ''\n",
    "        if line[0] == '>':\n",
    "            header = line[1:-1]\n",
    "        else:\n",
    "            sequence = sequence + line[:-1]\n",
    "    index += 1\n",
    "    writeLine(index, header, category, sequence, out)\n",
    "    out.close()"
   ]
  },
  {
   "cell_type": "markdown",
   "metadata": {},
   "source": [
    "## B721 RNA"
   ]
  },
  {
   "cell_type": "code",
   "execution_count": 6,
   "metadata": {},
   "outputs": [],
   "source": [
    "fasta = '../../data/fasta/PA_ucsc_proteomenr_264contams.B721.RNA.gencode.mit.553smORFs.fasta'\n",
    "out = '../../data/ref/B721.RNA.ref'\n",
    "parseFasta(fasta, out)"
   ]
  },
  {
   "cell_type": "markdown",
   "metadata": {},
   "source": [
    "## B721 RPF"
   ]
  },
  {
   "cell_type": "code",
   "execution_count": 7,
   "metadata": {},
   "outputs": [],
   "source": [
    "fasta = '../../data/fasta/PA_ucsc_proteomenr_264contams.B721.RPF.gencode.mit.553smORFs.fasta'\n",
    "out = '../../data/ref/B721.RPF.ref'\n",
    "parseFasta(fasta, out)"
   ]
  },
  {
   "cell_type": "markdown",
   "metadata": {},
   "source": [
    "## B721 RibORF + Price"
   ]
  },
  {
   "cell_type": "code",
   "execution_count": 8,
   "metadata": {},
   "outputs": [],
   "source": [
    "fasta = '../../data/fasta/PM_ucsc_proteomenr_264contams.B721.RibORF.Price.prot.553smORFs.fasta'\n",
    "out = '../../data/ref/B721.ref'\n",
    "parseFasta(fasta, out)"
   ]
  },
  {
   "cell_type": "markdown",
   "metadata": {},
   "source": [
    "## Pan Sample"
   ]
  },
  {
   "cell_type": "code",
   "execution_count": 9,
   "metadata": {},
   "outputs": [],
   "source": [
    "fasta = '../../data/fasta/PM_ucsc_proteomenr_264contams.PanSample.RibORF.Price.553smORFs3.fasta'\n",
    "out = '../../data/ref/PanSample.ref'\n",
    "parseFasta(fasta, out)"
   ]
  },
  {
   "cell_type": "markdown",
   "metadata": {},
   "source": [
    "## Mel 11 Variants"
   ]
  },
  {
   "cell_type": "code",
   "execution_count": 10,
   "metadata": {},
   "outputs": [],
   "source": [
    "ref = '../../data/ref/PanSample.ref'\n",
    "fasta1 = '../../data/fasta/mel11.PanSample.snvs.fasta'\n",
    "fasta2 = '../../data/fasta/mel11.PanSample.indels.fasta'\n",
    "out1 = '../../data/ref/temp.ref'\n",
    "out2 = '../../data/ref/MEL.ref'\n",
    "addVariants(ref, fasta1, out1)\n",
    "addVariants(out1, fasta2, out2)\n",
    "run = subprocess.run(['rm', out1])"
   ]
  },
  {
   "cell_type": "markdown",
   "metadata": {},
   "source": [
    "## CLL 5 Variants"
   ]
  },
  {
   "cell_type": "code",
   "execution_count": 11,
   "metadata": {},
   "outputs": [],
   "source": [
    "ref = '../../data/ref/PanSample.ref'\n",
    "fasta = '../../data/fasta/cll_jn.PanSample.variants.fasta'\n",
    "out = '../../data/ref/CLL.ref'\n",
    "addVariants(ref, fasta, out)"
   ]
  }
 ],
 "metadata": {
  "kernelspec": {
   "display_name": "Python 3",
   "language": "python",
   "name": "python3"
  },
  "language_info": {
   "codemirror_mode": {
    "name": "ipython",
    "version": 3
   },
   "file_extension": ".py",
   "mimetype": "text/x-python",
   "name": "python",
   "nbconvert_exporter": "python",
   "pygments_lexer": "ipython3",
   "version": "3.7.0"
  }
 },
 "nbformat": 4,
 "nbformat_minor": 2
}

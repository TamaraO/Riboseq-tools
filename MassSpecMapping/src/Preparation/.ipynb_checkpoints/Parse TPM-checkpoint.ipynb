{
 "cells": [
  {
   "cell_type": "markdown",
   "metadata": {},
   "source": [
    "# Parse TPM & Purity\n",
    "Convert from the per sample TPM files to Unified tables to merge with Peptide Information."
   ]
  },
  {
   "cell_type": "markdown",
   "metadata": {},
   "source": [
    "#### Import Packages & Setup Environment"
   ]
  },
  {
   "cell_type": "code",
   "execution_count": 1,
   "metadata": {},
   "outputs": [],
   "source": [
    "import pandas\n",
    "import statistics as stats\n",
    "pandas.set_option('display.max_columns', 500)"
   ]
  },
  {
   "cell_type": "markdown",
   "metadata": {},
   "source": [
    "#### Define Functions"
   ]
  },
  {
   "cell_type": "code",
   "execution_count": 2,
   "metadata": {},
   "outputs": [],
   "source": [
    "def readTPM(path, name):\n",
    "    keep = [\n",
    "        name + '.purity',\n",
    "        name + '.tpm'\n",
    "    ]\n",
    "    df = pandas.read_csv(\n",
    "        path,\n",
    "        sep='\\t',\n",
    "        header=0,\n",
    "        index_col='ORF_ID',\n",
    "        low_memory=False\n",
    "    )\n",
    "    df[name + '.purity'] = df['Purity']\n",
    "    df[name + '.tpm'] = df['TPM']\n",
    "    df = df[keep]\n",
    "    return(df)"
   ]
  },
  {
   "cell_type": "code",
   "execution_count": 3,
   "metadata": {},
   "outputs": [],
   "source": [
    "def meanPurity(row):\n",
    "    allNames = list(row.index)\n",
    "    names = []\n",
    "    for name in allNames:\n",
    "        if 'purity' in name:\n",
    "            names.append(name)\n",
    "    values = []\n",
    "    for name in names:\n",
    "        values.append(row.loc[name])\n",
    "    return(stats.mean(values))"
   ]
  },
  {
   "cell_type": "code",
   "execution_count": 4,
   "metadata": {},
   "outputs": [],
   "source": [
    "def meanTPM(row):\n",
    "    allNames = list(row.index)\n",
    "    names = []\n",
    "    for name in allNames:\n",
    "        if 'tpm' in name:\n",
    "            names.append(name)\n",
    "    values = []\n",
    "    for name in names:\n",
    "        values.append(row.loc[name])\n",
    "    return(stats.mean(values))"
   ]
  },
  {
   "cell_type": "code",
   "execution_count": 5,
   "metadata": {},
   "outputs": [],
   "source": [
    "def stdPurity(row):\n",
    "    allNames = list(row.index)\n",
    "    names = []\n",
    "    for name in allNames:\n",
    "        if 'purity' in name:\n",
    "            names.append(name)\n",
    "    values = []\n",
    "    for name in names:\n",
    "        values.append(row.loc[name])\n",
    "    return(stats.stdev(values))"
   ]
  },
  {
   "cell_type": "code",
   "execution_count": 6,
   "metadata": {},
   "outputs": [],
   "source": [
    "def stdTPM(row):\n",
    "    allNames = list(row.index)\n",
    "    names = []\n",
    "    for name in allNames:\n",
    "        if 'tpm' in name:\n",
    "            names.append(name)\n",
    "    values = []\n",
    "    for name in names:\n",
    "        values.append(row.loc[name])\n",
    "    return(stats.stdev(values))"
   ]
  },
  {
   "cell_type": "markdown",
   "metadata": {},
   "source": [
    "## B721"
   ]
  },
  {
   "cell_type": "code",
   "execution_count": 7,
   "metadata": {},
   "outputs": [],
   "source": [
    "A0101 = readTPM('../../data/tpm/B721_A0101_1.tpm', 'A0101')\n",
    "A3303 = readTPM('../../data/tpm/B721_A3303_1.tpm', 'A3303')\n",
    "B1501 = readTPM('../../data/tpm/B721_B1501_1.tpm', 'B1501')\n",
    "B4402 = readTPM('../../data/tpm/B721_B4402_1.tpm', 'B4402')\n",
    "B721 = A0101.join([A3303, B1501, B4402])\n",
    "B721.reset_index(\n",
    "    drop=False,\n",
    "    inplace=True)\n",
    "B721['mean.purity'] = B721.apply(meanPurity, axis=1)\n",
    "B721['mean.tpm'] = B721.apply(meanTPM, axis=1)\n",
    "B721['std.purity'] = B721.apply(stdPurity, axis=1)\n",
    "B721['std.tpm'] = B721.apply(stdTPM, axis=1)\n",
    "B721.to_csv(\n",
    "    '../../data/tpm/B721.tpm',\n",
    "    sep='\\t',\n",
    "    header=True,\n",
    "    index=False)"
   ]
  },
  {
   "cell_type": "markdown",
   "metadata": {},
   "source": [
    "## MEL 11"
   ]
  },
  {
   "cell_type": "code",
   "execution_count": 8,
   "metadata": {},
   "outputs": [],
   "source": [
    "Mel11_1 = readTPM('../../data/tpm/Mel11_1.tpm', '1')\n",
    "Mel11_3 = readTPM('../../data/tpm/Mel11_3.tpm', '3')\n",
    "Mel11_4 = readTPM('../../data/tpm/Mel11_4.tpm', '4')\n",
    "Mel11 = Mel11_1.join([Mel11_3, Mel11_4])\n",
    "Mel11.reset_index(\n",
    "    drop=False,\n",
    "    inplace=True)\n",
    "Mel11['mean.purity'] = Mel11.apply(meanPurity, axis=1)\n",
    "Mel11['mean.tpm'] = Mel11.apply(meanTPM, axis=1)\n",
    "Mel11['std.purity'] = Mel11.apply(stdPurity, axis=1)\n",
    "Mel11['std.tpm'] = Mel11.apply(stdTPM, axis=1)\n",
    "Mel11.to_csv(\n",
    "    '../../data/tpm/MEL.11.tpm',\n",
    "    sep='\\t', \n",
    "    header=True,\n",
    "    index=False)"
   ]
  },
  {
   "cell_type": "markdown",
   "metadata": {},
   "source": [
    "## GBM"
   ]
  },
  {
   "cell_type": "code",
   "execution_count": 9,
   "metadata": {},
   "outputs": [],
   "source": [
    "GBM_ImHm = readTPM('../../data/tpm/GBM_H4512_ImHm.tpm', 'ImHm')\n",
    "GBM_ImHp = readTPM('../../data/tpm/GBM_H4512_ImHp.tpm', 'ImHp')\n",
    "GBM_IpHm = readTPM('../../data/tpm/GBM_H4512_IpHm.tpm', 'IpHm')\n",
    "GBM_IpHp = readTPM('../../data/tpm/GBM_H4512_IpHp.tpm', 'IpHp')\n",
    "GBM = GBM_ImHm.join([GBM_IpHm, GBM_ImHp, GBM_IpHp])\n",
    "GBM.reset_index(\n",
    "    drop=False,\n",
    "    inplace=True)\n",
    "GBM['mean.purity'] = GBM.apply(meanPurity, axis=1)\n",
    "GBM['mean.tpm'] = GBM.apply(meanTPM, axis=1)\n",
    "GBM['std.purity'] = GBM.apply(stdPurity, axis=1)\n",
    "GBM['std.tpm'] = GBM.apply(stdTPM, axis=1)\n",
    "GBM.to_csv(\n",
    "    '../../data/tpm/GBM.H4512.tpm',\n",
    "    sep='\\t',\n",
    "    header=True,\n",
    "    index=False)"
   ]
  },
  {
   "cell_type": "markdown",
   "metadata": {},
   "source": [
    "## CLL 5283"
   ]
  },
  {
   "cell_type": "code",
   "execution_count": 10,
   "metadata": {},
   "outputs": [],
   "source": [
    "CLL_1 = readTPM('../../data/tpm/CLL5_1.tpm', '1')\n",
    "CLL_2 = readTPM('../../data/tpm/CLL5_2.tpm', '2')\n",
    "CLL_3 = readTPM('../../data/tpm/CLL5_3_1.tpm', '3')\n",
    "CLL = CLL_1.join([CLL_2, CLL_3])\n",
    "CLL.reset_index(\n",
    "    drop=False,\n",
    "    inplace=True)\n",
    "CLL['mean.purity'] = CLL.apply(meanPurity, axis=1)\n",
    "CLL['mean.tpm'] = CLL.apply(meanTPM, axis=1)\n",
    "CLL['std.purity'] = CLL.apply(stdPurity, axis=1)\n",
    "CLL['std.tpm'] = CLL.apply(stdTPM, axis=1)\n",
    "CLL.to_csv(\n",
    "    '../../data/tpm/CLL.5283.tpm',\n",
    "    sep='\\t',\n",
    "    header=True,\n",
    "    index=False)"
   ]
  },
  {
   "cell_type": "markdown",
   "metadata": {},
   "source": [
    "## MEL 2"
   ]
  },
  {
   "cell_type": "code",
   "execution_count": 11,
   "metadata": {},
   "outputs": [],
   "source": [
    "Mel2_2 = readTPM('../../data/tpm/Mel2_2.tpm', '2')\n",
    "Mel2_3 = readTPM('../../data/tpm/Mel2_3.tpm', '3')\n",
    "Mel2 = Mel2_2.join([Mel2_3])\n",
    "Mel2.reset_index(\n",
    "    drop=False,\n",
    "    inplace=True)\n",
    "Mel2['mean.purity'] = Mel2.apply(meanPurity, axis=1)\n",
    "Mel2['mean.tpm'] = Mel2.apply(meanTPM, axis=1)\n",
    "Mel2['std.purity'] = Mel2.apply(stdPurity, axis=1)\n",
    "Mel2['std.tpm'] = Mel2.apply(stdTPM, axis=1)\n",
    "Mel2.to_csv(\n",
    "    '../../data/tpm/MEL.2.tpm',\n",
    "    sep='\\t',\n",
    "    header=True,\n",
    "    index=False)"
   ]
  },
  {
   "cell_type": "markdown",
   "metadata": {},
   "source": [
    "## MEL 5"
   ]
  },
  {
   "cell_type": "code",
   "execution_count": 12,
   "metadata": {},
   "outputs": [],
   "source": [
    "Mel5 = readTPM('../../data/tpm/Mel5_1.tpm', 'Mel5')\n",
    "Mel5.reset_index(\n",
    "    drop=False,\n",
    "    inplace=True)\n",
    "Mel5['mean.purity'] = Mel5.apply(meanPurity, axis=1)\n",
    "Mel5['mean.tpm'] = Mel5.apply(meanTPM, axis=1)\n",
    "Mel5['std.purity'] = Mel5.apply(stdPurity, axis=1)\n",
    "Mel5['std.tpm'] = Mel5.apply(stdTPM, axis=1)\n",
    "Mel5.to_csv(\n",
    "    '../../data/tpm/MEL.5.tpm',\n",
    "    sep='\\t',\n",
    "    header=True,\n",
    "    index=False)"
   ]
  },
  {
   "cell_type": "markdown",
   "metadata": {},
   "source": [
    "## GBM 7"
   ]
  },
  {
   "cell_type": "code",
   "execution_count": 13,
   "metadata": {},
   "outputs": [],
   "source": [
    "GBM7_1 = readTPM('../../data/tpm/GBM7_1.tpm', '1')\n",
    "GBM7_2 = readTPM('../../data/tpm/GBM7_2.tpm', '2')\n",
    "GBM7 = GBM7_1.join([GBM7_2])\n",
    "GBM7.reset_index(\n",
    "    drop=False,\n",
    "    inplace=True)\n",
    "GBM7['mean.purity'] = GBM7.apply(meanPurity, axis=1)\n",
    "GBM7['mean.tpm'] = GBM7.apply(meanTPM, axis=1)\n",
    "GBM7['std.purity'] = GBM7.apply(stdPurity, axis=1)\n",
    "GBM7['std.tpm'] = GBM7.apply(stdTPM, axis=1)\n",
    "GBM7.to_csv(\n",
    "    '../../data/tpm/GBM.7.tpm',\n",
    "    sep='\\t',\n",
    "    header=True,\n",
    "    index=False)"
   ]
  }
 ],
 "metadata": {
  "kernelspec": {
   "display_name": "Python 3",
   "language": "python",
   "name": "python3"
  },
  "language_info": {
   "codemirror_mode": {
    "name": "ipython",
    "version": 3
   },
   "file_extension": ".py",
   "mimetype": "text/x-python",
   "name": "python",
   "nbconvert_exporter": "python",
   "pygments_lexer": "ipython3",
   "version": "3.7.0"
  }
 },
 "nbformat": 4,
 "nbformat_minor": 2
}
